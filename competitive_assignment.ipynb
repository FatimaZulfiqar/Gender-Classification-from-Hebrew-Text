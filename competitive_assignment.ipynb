{
 "cells": [
  {
   "cell_type": "markdown",
   "metadata": {},
   "source": [
    "## Assignment 3 - Competitive Assignment\n",
    "An explanation this assignment could be found in the .pdf explanation document"
   ]
  },
  {
   "cell_type": "markdown",
   "metadata": {},
   "source": [
    "### Preceding Step - import modules (packages)\n",
    "This step is necessary in order to use external modules (packages). <br/>"
   ]
  },
  {
   "cell_type": "code",
   "execution_count": 1,
   "metadata": {},
   "outputs": [],
   "source": [
    "# imports for reading and writing (input & output) files:\n",
    "import pandas as pd\n",
    "import os"
   ]
  },
  {
   "cell_type": "code",
   "execution_count": 2,
   "metadata": {},
   "outputs": [],
   "source": [
    "### add whatever imports you need\n",
    "# YOUR CODE HERE\n",
    "import numpy as np # linear algebra\n",
    "import re\n",
    "from sklearn.utils import class_weight\n",
    "from sklearn.model_selection import train_test_split\n",
    "from sklearn.preprocessing import LabelEncoder\n",
    "from sklearn import svm\n",
    "from sklearn.neighbors import KNeighborsClassifier\n",
    "from sklearn.ensemble import RandomForestClassifier\n",
    "from sklearn.naive_bayes import BernoulliNB, GaussianNB\n",
    "from sklearn.ensemble import GradientBoostingClassifier\n",
    "from xgboost import XGBClassifier\n",
    "from hyperopt import STATUS_OK, Trials, fmin, hp, tpe\n",
    "\n",
    "from sklearn.metrics import accuracy_score, confusion_matrix, classification_report\n",
    "from sklearn.feature_extraction.text import CountVectorizer,TfidfVectorizer\n",
    "from sklearn.model_selection import cross_validate\n",
    "from sklearn.linear_model import SGDClassifier\n",
    "\n",
    "import seaborn as sns\n",
    "import matplotlib.pyplot as plt\n"
   ]
  },
  {
   "cell_type": "markdown",
   "metadata": {},
   "source": [
    "### Reading input files\n",
    "Reading input files for train annotated corpus (raw text data) corpus and for the test corpus"
   ]
  },
  {
   "cell_type": "code",
   "execution_count": 3,
   "metadata": {},
   "outputs": [],
   "source": [
    "train_filename = '.' + os.sep + 'input' + os.sep + 'annotated_corpus_for_train.xlsx'\n",
    "test_filename  = '.' + os.sep + 'input' + os.sep + 'corpus_for_test.xlsx'\n",
    "df_train = pd.read_excel(train_filename, 'corpus', index_col=None, na_values=['NA'])\n",
    "df_test  = pd.read_excel(test_filename,  'corpus', index_col=None, na_values=['NA'])"
   ]
  },
  {
   "cell_type": "code",
   "execution_count": 4,
   "metadata": {},
   "outputs": [
    {
     "data": {
      "text/html": [
       "<div>\n",
       "<style scoped>\n",
       "    .dataframe tbody tr th:only-of-type {\n",
       "        vertical-align: middle;\n",
       "    }\n",
       "\n",
       "    .dataframe tbody tr th {\n",
       "        vertical-align: top;\n",
       "    }\n",
       "\n",
       "    .dataframe thead th {\n",
       "        text-align: right;\n",
       "    }\n",
       "</style>\n",
       "<table border=\"1\" class=\"dataframe\">\n",
       "  <thead>\n",
       "    <tr style=\"text-align: right;\">\n",
       "      <th></th>\n",
       "      <th>story</th>\n",
       "      <th>gender</th>\n",
       "    </tr>\n",
       "  </thead>\n",
       "  <tbody>\n",
       "    <tr>\n",
       "      <th>0</th>\n",
       "      <td>בוקר אחד קמתי סהרורי יצאתי מהמיטה קצת מטושטש ,...</td>\n",
       "      <td>m</td>\n",
       "    </tr>\n",
       "    <tr>\n",
       "      <th>1</th>\n",
       "      <td>לחבר שלי היה יום הולדת וחיפשנו מה אפשר לעשות ל...</td>\n",
       "      <td>m</td>\n",
       "    </tr>\n",
       "    <tr>\n",
       "      <th>2</th>\n",
       "      <td>השנה האחרונה הייתה שנת קורונה, שנה לא פשוטה בק...</td>\n",
       "      <td>m</td>\n",
       "    </tr>\n",
       "    <tr>\n",
       "      <th>3</th>\n",
       "      <td>לפני כחצי שנה עברתי לגור בצפון עם בת זוגתי, עב...</td>\n",
       "      <td>m</td>\n",
       "    </tr>\n",
       "    <tr>\n",
       "      <th>4</th>\n",
       "      <td>יום חמישי רגיל, תמיד מתחיל לעבור טיפה מאוחר יו...</td>\n",
       "      <td>m</td>\n",
       "    </tr>\n",
       "    <tr>\n",
       "      <th>5</th>\n",
       "      <td>בשנה האחרונה חוויתי את מגפת הקורונה שהכריח את ...</td>\n",
       "      <td>m</td>\n",
       "    </tr>\n",
       "    <tr>\n",
       "      <th>6</th>\n",
       "      <td>בסמסטר קודם אני וכמה חברים ללימודים קבענו להיפ...</td>\n",
       "      <td>m</td>\n",
       "    </tr>\n",
       "    <tr>\n",
       "      <th>7</th>\n",
       "      <td>בשנה האחרונה למרות שלא היו יותר מידיי דברים לע...</td>\n",
       "      <td>f</td>\n",
       "    </tr>\n",
       "  </tbody>\n",
       "</table>\n",
       "</div>"
      ],
      "text/plain": [
       "                                               story gender\n",
       "0  בוקר אחד קמתי סהרורי יצאתי מהמיטה קצת מטושטש ,...      m\n",
       "1  לחבר שלי היה יום הולדת וחיפשנו מה אפשר לעשות ל...      m\n",
       "2  השנה האחרונה הייתה שנת קורונה, שנה לא פשוטה בק...      m\n",
       "3  לפני כחצי שנה עברתי לגור בצפון עם בת זוגתי, עב...      m\n",
       "4  יום חמישי רגיל, תמיד מתחיל לעבור טיפה מאוחר יו...      m\n",
       "5  בשנה האחרונה חוויתי את מגפת הקורונה שהכריח את ...      m\n",
       "6  בסמסטר קודם אני וכמה חברים ללימודים קבענו להיפ...      m\n",
       "7  בשנה האחרונה למרות שלא היו יותר מידיי דברים לע...      f"
      ]
     },
     "execution_count": 4,
     "metadata": {},
     "output_type": "execute_result"
    }
   ],
   "source": [
    "df_train.head(8)"
   ]
  },
  {
   "cell_type": "code",
   "execution_count": 5,
   "metadata": {},
   "outputs": [
    {
     "data": {
      "text/html": [
       "<div>\n",
       "<style scoped>\n",
       "    .dataframe tbody tr th:only-of-type {\n",
       "        vertical-align: middle;\n",
       "    }\n",
       "\n",
       "    .dataframe tbody tr th {\n",
       "        vertical-align: top;\n",
       "    }\n",
       "\n",
       "    .dataframe thead th {\n",
       "        text-align: right;\n",
       "    }\n",
       "</style>\n",
       "<table border=\"1\" class=\"dataframe\">\n",
       "  <thead>\n",
       "    <tr style=\"text-align: right;\">\n",
       "      <th></th>\n",
       "      <th>test_example_id</th>\n",
       "      <th>story</th>\n",
       "    </tr>\n",
       "  </thead>\n",
       "  <tbody>\n",
       "    <tr>\n",
       "      <th>0</th>\n",
       "      <td>0</td>\n",
       "      <td>כחלק ממסגרת ההתנדבות שלי במגלה אני הולך לפעמיי...</td>\n",
       "    </tr>\n",
       "    <tr>\n",
       "      <th>1</th>\n",
       "      <td>1</td>\n",
       "      <td>לפני שנה החלטתי שאני רוצה להיות טייס, התחלתי ל...</td>\n",
       "    </tr>\n",
       "    <tr>\n",
       "      <th>2</th>\n",
       "      <td>2</td>\n",
       "      <td>בתקופת הקורונה של תחילת החיסונים נגד קורונה, א...</td>\n",
       "    </tr>\n",
       "  </tbody>\n",
       "</table>\n",
       "</div>"
      ],
      "text/plain": [
       "   test_example_id                                              story\n",
       "0                0  כחלק ממסגרת ההתנדבות שלי במגלה אני הולך לפעמיי...\n",
       "1                1  לפני שנה החלטתי שאני רוצה להיות טייס, התחלתי ל...\n",
       "2                2  בתקופת הקורונה של תחילת החיסונים נגד קורונה, א..."
      ]
     },
     "execution_count": 5,
     "metadata": {},
     "output_type": "execute_result"
    }
   ],
   "source": [
    "df_test.head(3)"
   ]
  },
  {
   "cell_type": "markdown",
   "metadata": {},
   "source": [
    "### Your implementation:\n",
    "Write your code solution in the following code-cells"
   ]
  },
  {
   "cell_type": "code",
   "execution_count": 6,
   "metadata": {},
   "outputs": [
    {
     "name": "stdout",
     "output_type": "stream",
     "text": [
      "Columns in Dataset Index(['story', 'gender'], dtype='object')\n",
      "Shape of training data (364, 2)\n",
      "Shape of testing data (156, 2)\n"
     ]
    }
   ],
   "source": [
    "# YOUR CODE HERE\n",
    "print(\"Columns in Dataset\",df_train.columns)\n",
    "print(\"Shape of training data\",df_train.shape)\n",
    "print(\"Shape of testing data\",df_test.shape)"
   ]
  },
  {
   "cell_type": "code",
   "execution_count": 7,
   "metadata": {},
   "outputs": [
    {
     "data": {
      "text/plain": [
       "<matplotlib.axes._subplots.AxesSubplot at 0x245cd554b38>"
      ]
     },
     "execution_count": 7,
     "metadata": {},
     "output_type": "execute_result"
    },
    {
     "data": {
      "image/png": "[encoded data removed]",
      "text/plain": [
       "<Figure size 432x288 with 1 Axes>"
      ]
     },
     "metadata": {
      "needs_background": "light"
     },
     "output_type": "display_data"
    }
   ],
   "source": [
    "# YOUR CODE HERE\n",
    "label = df_train['gender']\n",
    "sns.countplot(label)"
   ]
  },
  {
   "cell_type": "markdown",
   "metadata": {},
   "source": [
    "## Label Encoding"
   ]
  },
  {
   "cell_type": "code",
   "execution_count": 8,
   "metadata": {},
   "outputs": [
    {
     "name": "stdout",
     "output_type": "stream",
     "text": [
      "[1 1 1 1 1 1 1 0 1 1 1 1 1 1 1 0 1 1 1 1 1 1 1 1 1 1 1 1 1 1 0 1 1 1 1 1 1\n",
      " 1 1 1 0 1 0 1 0 1 0 0 1 0 1 1 1 1 1 0 1 0 1 0 1 1 0 1 1 0 1 1 1 0 1 1 1 1\n",
      " 1 0 1 1 1 1 0 1 0 0 1 1 0 1 0 1 1 1 0 0 1 0 1 0 1 1 0 0 1 1 1 1 0 1 1 0 1\n",
      " 0 1 1 1 0 1 0 1 1 1 1 1 1 1 1 1 1 1 1 1 1 1 1 1 1 0 0 1 1 1 0 1 1 1 0 0 1\n",
      " 1 0 1 1 1 1 0 1 0 1 1 1 1 1 1 0 1 1 1 0 1 1 0 1 1 1 1 1 1 1 1 1 0 1 1 1 1\n",
      " 1 1 0 0 1 0 1 1 1 1 0 0 1 1 1 1 1 1 0 1 1 1 1 1 0 1 0 1 0 0 1 1 1 1 1 0 0\n",
      " 0 1 0 1 1 1 1 0 0 0 1 1 1 1 1 1 1 1 0 1 0 1 1 1 1 1 0 1 1 1 0 1 1 1 1 1 1\n",
      " 1 1 1 1 0 1 1 1 0 1 1 1 1 0 0 1 0 0 1 1 1 1 1 1 1 1 1 0 0 1 1 1 0 1 1 1 0\n",
      " 1 1 0 1 1 1 1 1 1 1 0 0 0 0 1 0 1 1 1 1 1 1 1 1 1 1 0 1 1 1 0 0 0 0 1 1 0\n",
      " 1 1 0 1 1 1 1 1 1 1 1 1 1 1 1 1 1 0 1 1 0 1 1 0 1 0 1 1 1 1 0]\n"
     ]
    }
   ],
   "source": [
    "# YOUR CODE HERE\n",
    "label_encoder = LabelEncoder()\n",
    "label = label_encoder.fit_transform(label)\n",
    "print(label)\n"
   ]
  },
  {
   "cell_type": "markdown",
   "metadata": {},
   "source": [
    "Note that male = 1 and female = 0"
   ]
  },
  {
   "cell_type": "code",
   "execution_count": 9,
   "metadata": {},
   "outputs": [],
   "source": [
    "# Add as many code cells as you need\n",
    "# YOUR CODE HERE\n",
    "train = df_train['story']\n",
    "test = df_test['story']"
   ]
  },
  {
   "cell_type": "code",
   "execution_count": 10,
   "metadata": {},
   "outputs": [
    {
     "name": "stdout",
     "output_type": "stream",
     "text": [
      "(364, 22113)\n",
      "(156, 22113)\n"
     ]
    }
   ],
   "source": [
    "# feature extraction using count vectorizer\n",
    "\n",
    "count_vectorizer = CountVectorizer(ngram_range=(1,1))\n",
    "train = count_vectorizer.fit_transform(train)\n",
    "test = count_vectorizer.transform(test)\n",
    "print(train.shape)\n",
    "print(test.shape)"
   ]
  },
  {
   "cell_type": "code",
   "execution_count": 11,
   "metadata": {},
   "outputs": [],
   "source": [
    "# split traiing data into train and validation set\n",
    "x_train,x_val,y_train,y_val = train_test_split(train,label,test_size = 0.2,shuffle=True,random_state = 3)"
   ]
  },
  {
   "cell_type": "markdown",
   "metadata": {},
   "source": [
    "# K Nearest Neighbour"
   ]
  },
  {
   "cell_type": "code",
   "execution_count": 17,
   "metadata": {},
   "outputs": [
    {
     "name": "stdout",
     "output_type": "stream",
     "text": [
      "0.62\n",
      "              precision    recall  f1-score   support\n",
      "\n",
      "           0       0.46      0.50      0.48        26\n",
      "           1       0.71      0.68      0.70        47\n",
      "\n",
      "    accuracy                           0.62        73\n",
      "   macro avg       0.59      0.59      0.59        73\n",
      "weighted avg       0.62      0.62      0.62        73\n",
      "\n",
      "\n",
      "\n",
      "****************************************************************************************************\n",
      "0.63\n",
      "              precision    recall  f1-score   support\n",
      "\n",
      "           0       0.49      0.69      0.57        26\n",
      "           1       0.78      0.60      0.67        47\n",
      "\n",
      "    accuracy                           0.63        73\n",
      "   macro avg       0.63      0.64      0.62        73\n",
      "weighted avg       0.67      0.63      0.64        73\n",
      "\n",
      "\n",
      "\n",
      "****************************************************************************************************\n",
      "0.68\n",
      "              precision    recall  f1-score   support\n",
      "\n",
      "           0       0.57      0.46      0.51        26\n",
      "           1       0.73      0.81      0.77        47\n",
      "\n",
      "    accuracy                           0.68        73\n",
      "   macro avg       0.65      0.64      0.64        73\n",
      "weighted avg       0.67      0.68      0.68        73\n",
      "\n",
      "\n",
      "\n",
      "****************************************************************************************************\n",
      "0.62\n",
      "              precision    recall  f1-score   support\n",
      "\n",
      "           0       0.47      0.54      0.50        26\n",
      "           1       0.72      0.66      0.69        47\n",
      "\n",
      "    accuracy                           0.62        73\n",
      "   macro avg       0.59      0.60      0.59        73\n",
      "weighted avg       0.63      0.62      0.62        73\n",
      "\n",
      "\n",
      "\n",
      "****************************************************************************************************\n",
      "0.7\n",
      "              precision    recall  f1-score   support\n",
      "\n",
      "           0       0.62      0.38      0.48        26\n",
      "           1       0.72      0.87      0.79        47\n",
      "\n",
      "    accuracy                           0.70        73\n",
      "   macro avg       0.67      0.63      0.63        73\n",
      "weighted avg       0.69      0.70      0.68        73\n",
      "\n",
      "\n",
      "\n",
      "****************************************************************************************************\n",
      "0.67\n",
      "              precision    recall  f1-score   support\n",
      "\n",
      "           0       0.55      0.42      0.48        26\n",
      "           1       0.72      0.81      0.76        47\n",
      "\n",
      "    accuracy                           0.67        73\n",
      "   macro avg       0.63      0.62      0.62        73\n",
      "weighted avg       0.66      0.67      0.66        73\n",
      "\n",
      "\n",
      "\n",
      "****************************************************************************************************\n",
      "0.68\n",
      "              precision    recall  f1-score   support\n",
      "\n",
      "           0       0.67      0.23      0.34        26\n",
      "           1       0.69      0.94      0.79        47\n",
      "\n",
      "    accuracy                           0.68        73\n",
      "   macro avg       0.68      0.58      0.57        73\n",
      "weighted avg       0.68      0.68      0.63        73\n",
      "\n",
      "\n",
      "\n",
      "****************************************************************************************************\n",
      "0.64\n",
      "              precision    recall  f1-score   support\n",
      "\n",
      "           0       0.50      0.31      0.38        26\n",
      "           1       0.68      0.83      0.75        47\n",
      "\n",
      "    accuracy                           0.64        73\n",
      "   macro avg       0.59      0.57      0.57        73\n",
      "weighted avg       0.62      0.64      0.62        73\n",
      "\n",
      "\n",
      "\n",
      "****************************************************************************************************\n",
      "0.67\n",
      "              precision    recall  f1-score   support\n",
      "\n",
      "           0       0.60      0.23      0.33        26\n",
      "           1       0.68      0.91      0.78        47\n",
      "\n",
      "    accuracy                           0.67        73\n",
      "   macro avg       0.64      0.57      0.56        73\n",
      "weighted avg       0.65      0.67      0.62        73\n",
      "\n",
      "\n",
      "\n",
      "****************************************************************************************************\n",
      "0.64\n",
      "              precision    recall  f1-score   support\n",
      "\n",
      "           0       0.50      0.23      0.32        26\n",
      "           1       0.67      0.87      0.76        47\n",
      "\n",
      "    accuracy                           0.64        73\n",
      "   macro avg       0.59      0.55      0.54        73\n",
      "weighted avg       0.61      0.64      0.60        73\n",
      "\n",
      "\n",
      "\n",
      "****************************************************************************************************\n",
      "0.64\n",
      "              precision    recall  f1-score   support\n",
      "\n",
      "           0       0.50      0.15      0.24        26\n",
      "           1       0.66      0.91      0.77        47\n",
      "\n",
      "    accuracy                           0.64        73\n",
      "   macro avg       0.58      0.53      0.50        73\n",
      "weighted avg       0.60      0.64      0.58        73\n",
      "\n",
      "\n",
      "\n",
      "****************************************************************************************************\n",
      "0.63\n",
      "              precision    recall  f1-score   support\n",
      "\n",
      "           0       0.45      0.19      0.27        26\n",
      "           1       0.66      0.87      0.75        47\n",
      "\n",
      "    accuracy                           0.63        73\n",
      "   macro avg       0.56      0.53      0.51        73\n",
      "weighted avg       0.59      0.63      0.58        73\n",
      "\n",
      "\n",
      "\n",
      "****************************************************************************************************\n",
      "0.62\n",
      "              precision    recall  f1-score   support\n",
      "\n",
      "           0       0.25      0.04      0.07        26\n",
      "           1       0.64      0.94      0.76        47\n",
      "\n",
      "    accuracy                           0.62        73\n",
      "   macro avg       0.44      0.49      0.41        73\n",
      "weighted avg       0.50      0.62      0.51        73\n",
      "\n",
      "\n",
      "\n",
      "****************************************************************************************************\n",
      "0.62\n",
      "              precision    recall  f1-score   support\n",
      "\n",
      "           0       0.25      0.04      0.07        26\n",
      "           1       0.64      0.94      0.76        47\n",
      "\n",
      "    accuracy                           0.62        73\n",
      "   macro avg       0.44      0.49      0.41        73\n",
      "weighted avg       0.50      0.62      0.51        73\n",
      "\n",
      "\n",
      "\n",
      "****************************************************************************************************\n",
      "0.63\n",
      "              precision    recall  f1-score   support\n",
      "\n",
      "           0       0.00      0.00      0.00        26\n",
      "           1       0.64      0.98      0.77        47\n",
      "\n",
      "    accuracy                           0.63        73\n",
      "   macro avg       0.32      0.49      0.39        73\n",
      "weighted avg       0.41      0.63      0.50        73\n",
      "\n",
      "\n",
      "\n",
      "****************************************************************************************************\n",
      "0.63\n",
      "              precision    recall  f1-score   support\n",
      "\n",
      "           0       0.00      0.00      0.00        26\n",
      "           1       0.64      0.98      0.77        47\n",
      "\n",
      "    accuracy                           0.63        73\n",
      "   macro avg       0.32      0.49      0.39        73\n",
      "weighted avg       0.41      0.63      0.50        73\n",
      "\n",
      "\n",
      "\n",
      "****************************************************************************************************\n",
      "0.64\n",
      "              precision    recall  f1-score   support\n",
      "\n",
      "           0       0.00      0.00      0.00        26\n",
      "           1       0.64      1.00      0.78        47\n",
      "\n",
      "    accuracy                           0.64        73\n",
      "   macro avg       0.32      0.50      0.39        73\n",
      "weighted avg       0.41      0.64      0.50        73\n",
      "\n"
     ]
    },
    {
     "name": "stderr",
     "output_type": "stream",
     "text": [
      "D:\\Anaconda3\\envs\\tf_env\\lib\\site-packages\\sklearn\\metrics\\_classification.py:1221: UndefinedMetricWarning: Precision and F-score are ill-defined and being set to 0.0 in labels with no predicted samples. Use `zero_division` parameter to control this behavior.\n",
      "  _warn_prf(average, modifier, msg_start, len(result))\n"
     ]
    },
    {
     "name": "stdout",
     "output_type": "stream",
     "text": [
      "\n",
      "\n",
      "****************************************************************************************************\n",
      "0.62\n",
      "              precision    recall  f1-score   support\n",
      "\n",
      "           0       0.00      0.00      0.00        26\n",
      "           1       0.63      0.96      0.76        47\n",
      "\n",
      "    accuracy                           0.62        73\n",
      "   macro avg       0.32      0.48      0.38        73\n",
      "weighted avg       0.41      0.62      0.49        73\n",
      "\n",
      "\n",
      "\n",
      "****************************************************************************************************\n",
      "0.64\n",
      "              precision    recall  f1-score   support\n",
      "\n",
      "           0       0.00      0.00      0.00        26\n",
      "           1       0.64      1.00      0.78        47\n",
      "\n",
      "    accuracy                           0.64        73\n",
      "   macro avg       0.32      0.50      0.39        73\n",
      "weighted avg       0.41      0.64      0.50        73\n",
      "\n",
      "\n",
      "\n",
      "****************************************************************************************************\n"
     ]
    },
    {
     "name": "stderr",
     "output_type": "stream",
     "text": [
      "D:\\Anaconda3\\envs\\tf_env\\lib\\site-packages\\sklearn\\metrics\\_classification.py:1221: UndefinedMetricWarning: Precision and F-score are ill-defined and being set to 0.0 in labels with no predicted samples. Use `zero_division` parameter to control this behavior.\n",
      "  _warn_prf(average, modifier, msg_start, len(result))\n"
     ]
    },
    {
     "data": {
      "image/png": "[encoded data removed]",
      "text/plain": [
       "<Figure size 648x648 with 2 Axes>"
      ]
     },
     "metadata": {
      "needs_background": "light"
     },
     "output_type": "display_data"
    },
    {
     "data": {
      "image/png": "[encoded data removed]",
      "text/plain": [
       "<Figure size 648x648 with 2 Axes>"
      ]
     },
     "metadata": {
      "needs_background": "light"
     },
     "output_type": "display_data"
    },
    {
     "data": {
      "image/png": "[encoded data removed]",
      "text/plain": [
       "<Figure size 648x648 with 2 Axes>"
      ]
     },
     "metadata": {
      "needs_background": "light"
     },
     "output_type": "display_data"
    },
    {
     "data": {
      "image/png": "[encoded data removed]",
      "text/plain": [
       "<Figure size 648x648 with 2 Axes>"
      ]
     },
     "metadata": {
      "needs_background": "light"
     },
     "output_type": "display_data"
    },
    {
     "data": {
      "image/png": "[encoded data removed]",
      "text/plain": [
       "<Figure size 648x648 with 2 Axes>"
      ]
     },
     "metadata": {
      "needs_background": "light"
     },
     "output_type": "display_data"
    },
    {
     "data": {
      "image/png": "[encoded data removed]",
      "text/plain": [
       "<Figure size 648x648 with 2 Axes>"
      ]
     },
     "metadata": {
      "needs_background": "light"
     },
     "output_type": "display_data"
    },
    {
     "data": {
      "image/png": "[encoded data removed]",
      "text/plain": [
       "<Figure size 648x648 with 2 Axes>"
      ]
     },
     "metadata": {
      "needs_background": "light"
     },
     "output_type": "display_data"
    },
    {
     "data": {
      "image/png": "[encoded data removed]",
      "text/plain": [
       "<Figure size 648x648 with 2 Axes>"
      ]
     },
     "metadata": {
      "needs_background": "light"
     },
     "output_type": "display_data"
    },
    {
     "data": {
      "image/png": "[encoded data removed]",
      "text/plain": [
       "<Figure size 648x648 with 2 Axes>"
      ]
     },
     "metadata": {
      "needs_background": "light"
     },
     "output_type": "display_data"
    },
    {
     "data": {
      "image/png": "[encoded data removed]",
      "text/plain": [
       "<Figure size 648x648 with 2 Axes>"
      ]
     },
     "metadata": {
      "needs_background": "light"
     },
     "output_type": "display_data"
    },
    {
     "data": {
      "image/png": "[encoded data removed]",
      "text/plain": [
       "<Figure size 648x648 with 2 Axes>"
      ]
     },
     "metadata": {
      "needs_background": "light"
     },
     "output_type": "display_data"
    },
    {
     "data": {
      "image/png": "[encoded data removed]",
      "text/plain": [
       "<Figure size 648x648 with 2 Axes>"
      ]
     },
     "metadata": {
      "needs_background": "light"
     },
     "output_type": "display_data"
    },
    {
     "data": {
      "image/png": "[encoded data removed]",
      "text/plain": [
       "<Figure size 648x648 with 2 Axes>"
      ]
     },
     "metadata": {
      "needs_background": "light"
     },
     "output_type": "display_data"
    },
    {
     "data": {
      "image/png": "[encoded data removed]",
      "text/plain": [
       "<Figure size 648x648 with 2 Axes>"
      ]
     },
     "metadata": {
      "needs_background": "light"
     },
     "output_type": "display_data"
    },
    {
     "data": {
      "image/png": "[encoded data removed]",
      "text/plain": [
       "<Figure size 648x648 with 2 Axes>"
      ]
     },
     "metadata": {
      "needs_background": "light"
     },
     "output_type": "display_data"
    },
    {
     "data": {
      "image/png": "[encoded data removed]",
      "text/plain": [
       "<Figure size 648x648 with 2 Axes>"
      ]
     },
     "metadata": {
      "needs_background": "light"
     },
     "output_type": "display_data"
    },
    {
     "data": {
      "image/png": "[encoded data removed]",
      "text/plain": [
       "<Figure size 648x648 with 2 Axes>"
      ]
     },
     "metadata": {
      "needs_background": "light"
     },
     "output_type": "display_data"
    },
    {
     "data": {
      "image/png": "[encoded data removed]",
      "text/plain": [
       "<Figure size 648x648 with 2 Axes>"
      ]
     },
     "metadata": {
      "needs_background": "light"
     },
     "output_type": "display_data"
    },
    {
     "data": {
      "image/png": "[encoded data removed]",
      "text/plain": [
       "<Figure size 648x648 with 2 Axes>"
      ]
     },
     "metadata": {
      "needs_background": "light"
     },
     "output_type": "display_data"
    }
   ],
   "source": [
    "error=[]\n",
    "for i in range(1,20):\n",
    "    neigh = KNeighborsClassifier(n_neighbors=i)\n",
    "    neigh.fit(x_train,y_train)\n",
    "    y_pred = neigh.predict(x_val)\n",
    "    \n",
    "    accuracy = accuracy_score(y_val, y_pred) \n",
    "    print(round(accuracy,2))\n",
    "    print(classification_report(y_val, y_pred))\n",
    "    \n",
    "    cm = confusion_matrix(y_val, y_pred)\n",
    "    plt.figure(figsize=(9,9))\n",
    "    sns.heatmap(cm,annot = True, fmt='.3f',linewidth=.5,square=True,cmap='Pastel1');\n",
    "    plt.ylabel(\"Actual Label\");\n",
    "    plt.xlabel(\"Predicted Label\");\n",
    "    all_sample_title='Accuracy Score:{0}'.format(accuracy)\n",
    "    plt.title(all_sample_title,size=15);\n",
    "\n",
    "    print()\n",
    "    print()\n",
    "    \n",
    "    print(\"*\"*100)"
   ]
  },
  {
   "cell_type": "markdown",
   "metadata": {},
   "source": [
    "# Gaussian NB"
   ]
  },
  {
   "cell_type": "code",
   "execution_count": 18,
   "metadata": {},
   "outputs": [
    {
     "name": "stdout",
     "output_type": "stream",
     "text": [
      "accuracy =  0.66\n",
      "              precision    recall  f1-score   support\n",
      "\n",
      "           0       1.00      0.04      0.07        26\n",
      "           1       0.65      1.00      0.79        47\n",
      "\n",
      "    accuracy                           0.66        73\n",
      "   macro avg       0.83      0.52      0.43        73\n",
      "weighted avg       0.78      0.66      0.53        73\n",
      "\n"
     ]
    },
    {
     "data": {
      "image/png": "[encoded data removed]",
      "text/plain": [
       "<Figure size 648x648 with 2 Axes>"
      ]
     },
     "metadata": {
      "needs_background": "light"
     },
     "output_type": "display_data"
    }
   ],
   "source": [
    "gnb = GaussianNB()\n",
    "y_pred = gnb.fit(x_train.toarray(), y_train).predict(x_val.toarray())\n",
    "\n",
    "accuracy = accuracy_score(y_val, y_pred) \n",
    "print(\"accuracy = \",round(accuracy,2))\n",
    "print(classification_report(y_val, y_pred))\n",
    "    \n",
    "cm = confusion_matrix(y_val, y_pred)\n",
    "plt.figure(figsize=(9,9))\n",
    "sns.heatmap(cm,annot = True, fmt='.3f',linewidth=.5,square=True,cmap='Pastel1');\n",
    "plt.ylabel(\"Actual Label\");\n",
    "plt.xlabel(\"Predicted Label\");\n",
    "all_sample_title='Accuracy Score:{0}'.format(accuracy)\n",
    "plt.title(all_sample_title,size=15);\n"
   ]
  },
  {
   "cell_type": "markdown",
   "metadata": {},
   "source": [
    "# Support Vector Classifier (SVC)"
   ]
  },
  {
   "cell_type": "code",
   "execution_count": 20,
   "metadata": {},
   "outputs": [
    {
     "name": "stdout",
     "output_type": "stream",
     "text": [
      "[1 1 1 1 1 1 1 1 1 1 1 1 1 1 1 1 1 1 1 1 1 1 1 1 1 1 1 1 1 1 1 1 1 1 1 1 1\n",
      " 1 1 1 1 1 1 1 1 1 1 1 1 1 1 1 1 1 1 1 1 1 1 1 1 1 1 1 1 1 1 1 1 1 1 1 1]\n",
      "accuracy =  0.64\n",
      "              precision    recall  f1-score   support\n",
      "\n",
      "           0       0.00      0.00      0.00        26\n",
      "           1       0.64      1.00      0.78        47\n",
      "\n",
      "    accuracy                           0.64        73\n",
      "   macro avg       0.32      0.50      0.39        73\n",
      "weighted avg       0.41      0.64      0.50        73\n",
      "\n"
     ]
    },
    {
     "data": {
      "image/png": "[encoded data removed]",
      "text/plain": [
       "<Figure size 648x648 with 2 Axes>"
      ]
     },
     "metadata": {
      "needs_background": "light"
     },
     "output_type": "display_data"
    }
   ],
   "source": [
    "svc_model = svm.SVC(kernel = 'rbf', gamma = 'auto',random_state = 0)\n",
    "svc_model\n",
    "svc_model.fit(x_train,y_train)\n",
    "y_pred = svc_model.predict(x_val)\n",
    "print(y_pred)\n",
    "accuracy = accuracy_score(y_val,y_pred)\n",
    "print(\"accuracy = \", round(accuracy,2))\n",
    "print(classification_report(y_val,y_pred))\n",
    "\n",
    "cm = confusion_matrix(y_val, y_pred)\n",
    "plt.figure(figsize=(9,9))\n",
    "\n",
    "sns.heatmap(cm,annot = True, fmt='.3f',linewidth=.5,square=True,cmap='Pastel1');\n",
    "plt.ylabel(\"Actual Label\");\n",
    "plt.xlabel(\"Predicted Label\");\n",
    "all_sample_title='Accuracy Score:{0}'.format(accuracy)\n",
    "plt.title(all_sample_title,size=15);\n"
   ]
  },
  {
   "cell_type": "markdown",
   "metadata": {},
   "source": [
    "# Random Forest"
   ]
  },
  {
   "cell_type": "code",
   "execution_count": 21,
   "metadata": {},
   "outputs": [
    {
     "name": "stdout",
     "output_type": "stream",
     "text": [
      "[1 1 1 1 1 1 1 1 1 1 1 1 1 1 1 1 1 1 1 1 1 1 1 1 1 1 1 1 1 1 1 1 0 1 1 1 1\n",
      " 1 1 1 1 1 1 1 1 1 1 1 1 1 1 1 1 1 1 1 1 1 1 1 1 1 1 1 1 1 1 1 1 1 1 1 1]\n",
      "accuracy =  0.66\n",
      "              precision    recall  f1-score   support\n",
      "\n",
      "           0       1.00      0.04      0.07        26\n",
      "           1       0.65      1.00      0.79        47\n",
      "\n",
      "    accuracy                           0.66        73\n",
      "   macro avg       0.83      0.52      0.43        73\n",
      "weighted avg       0.78      0.66      0.53        73\n",
      "\n"
     ]
    },
    {
     "data": {
      "image/png": "[encoded data removed]",
      "text/plain": [
       "<Figure size 648x648 with 2 Axes>"
      ]
     },
     "metadata": {
      "needs_background": "light"
     },
     "output_type": "display_data"
    }
   ],
   "source": [
    "random_forest_model = RandomForestClassifier()\n",
    "random_forest_model.fit(x_train,y_train)\n",
    "y_pred = random_forest_model.predict(x_val)\n",
    "print(y_pred)\n",
    "accuracy = accuracy_score(y_val,y_pred)\n",
    "print(\"accuracy = \", round(accuracy,2))\n",
    "print(classification_report(y_val,y_pred))\n",
    "\n",
    "cm = confusion_matrix(y_val, y_pred)\n",
    "plt.figure(figsize=(9,9))\n",
    "\n",
    "sns.heatmap(cm,annot = True, fmt='.3f',linewidth=.5,square=True,cmap='Pastel1');\n",
    "plt.ylabel(\"Actual Label\");\n",
    "plt.xlabel(\"Predicted Label\");\n",
    "all_sample_title='Accuracy Score:{0}'.format(accuracy)\n",
    "plt.title(all_sample_title,size=15);\n"
   ]
  },
  {
   "cell_type": "markdown",
   "metadata": {},
   "source": [
    "# Bernoulli NB"
   ]
  },
  {
   "cell_type": "code",
   "execution_count": 22,
   "metadata": {},
   "outputs": [
    {
     "name": "stdout",
     "output_type": "stream",
     "text": [
      "[1 1 1 1 1 1 1 1 1 1 1 1 1 1 1 1 1 1 1 1 1 1 1 1 1 1 1 1 1 1 1 1 1 1 1 1 1\n",
      " 1 1 1 1 1 1 1 1 1 1 1 1 1 1 1 1 1 1 1 1 1 1 1 1 1 1 1 1 1 1 1 1 1 1 1 1]\n",
      "accuracy =  0.64\n",
      "              precision    recall  f1-score   support\n",
      "\n",
      "           0       0.00      0.00      0.00        26\n",
      "           1       0.64      1.00      0.78        47\n",
      "\n",
      "    accuracy                           0.64        73\n",
      "   macro avg       0.32      0.50      0.39        73\n",
      "weighted avg       0.41      0.64      0.50        73\n",
      "\n"
     ]
    },
    {
     "name": "stderr",
     "output_type": "stream",
     "text": [
      "D:\\Anaconda3\\envs\\tf_env\\lib\\site-packages\\sklearn\\metrics\\_classification.py:1221: UndefinedMetricWarning: Precision and F-score are ill-defined and being set to 0.0 in labels with no predicted samples. Use `zero_division` parameter to control this behavior.\n",
      "  _warn_prf(average, modifier, msg_start, len(result))\n"
     ]
    },
    {
     "data": {
      "image/png": "[encoded data removed]",
      "text/plain": [
       "<Figure size 648x648 with 2 Axes>"
      ]
     },
     "metadata": {
      "needs_background": "light"
     },
     "output_type": "display_data"
    }
   ],
   "source": [
    "bernoulliNB_model = BernoulliNB()\n",
    "bernoulliNB_model.fit(x_train,y_train)\n",
    "y_pred = bernoulliNB_model.predict(x_val)\n",
    "print(y_pred)\n",
    "accuracy = accuracy_score(y_val,y_pred)\n",
    "print(\"accuracy = \", round(accuracy,2))\n",
    "print(classification_report(y_val,y_pred))\n",
    "\n",
    "cm = confusion_matrix(y_val, y_pred)\n",
    "plt.figure(figsize=(9,9))\n",
    "\n",
    "sns.heatmap(cm,annot = True, fmt='.3f',linewidth=.5,square=True,cmap='Pastel1');\n",
    "plt.ylabel(\"Actual Label\");\n",
    "plt.xlabel(\"Predicted Label\");\n",
    "all_sample_title='Accuracy Score:{0}'.format(accuracy)\n",
    "plt.title(all_sample_title,size=15);\n"
   ]
  },
  {
   "cell_type": "markdown",
   "metadata": {},
   "source": [
    "# Gradient Boosting Classifier"
   ]
  },
  {
   "cell_type": "code",
   "execution_count": 23,
   "metadata": {},
   "outputs": [
    {
     "name": "stdout",
     "output_type": "stream",
     "text": [
      "[0 1 1 1 0 1 1 1 1 1 1 1 1 1 0 1 1 1 1 1 1 1 1 1 0 1 1 1 1 1 1 1 0 1 1 1 1\n",
      " 1 1 1 1 1 0 1 1 1 1 1 1 1 1 1 1 0 1 1 1 1 1 1 1 1 1 1 1 1 1 0 1 1 1 1 1]\n",
      "accuracy =  0.62\n",
      "              precision    recall  f1-score   support\n",
      "\n",
      "           0       0.38      0.12      0.18        26\n",
      "           1       0.65      0.89      0.75        47\n",
      "\n",
      "    accuracy                           0.62        73\n",
      "   macro avg       0.51      0.50      0.46        73\n",
      "weighted avg       0.55      0.62      0.55        73\n",
      "\n"
     ]
    },
    {
     "data": {
      "image/png": "[encoded data removed]",
      "text/plain": [
       "<Figure size 648x648 with 2 Axes>"
      ]
     },
     "metadata": {
      "needs_background": "light"
     },
     "output_type": "display_data"
    }
   ],
   "source": [
    "gradientBoosting_model = GradientBoostingClassifier()\n",
    "gradientBoosting_model.fit(x_train,y_train)\n",
    "y_pred = gradientBoosting_model.predict(x_val)\n",
    "print(y_pred)\n",
    "accuracy = accuracy_score(y_val,y_pred)\n",
    "print(\"accuracy = \", round(accuracy,2))\n",
    "print(classification_report(y_val,y_pred))\n",
    "\n",
    "cm = confusion_matrix(y_val, y_pred)\n",
    "plt.figure(figsize=(9,9))\n",
    "\n",
    "sns.heatmap(cm,annot = True, fmt='.3f',linewidth=.5,square=True,cmap='Pastel1');\n",
    "plt.ylabel(\"Actual Label\");\n",
    "plt.xlabel(\"Predicted Label\");\n",
    "all_sample_title='Accuracy Score:{0}'.format(accuracy)\n",
    "plt.title(all_sample_title,size=15);\n"
   ]
  },
  {
   "cell_type": "markdown",
   "metadata": {},
   "source": [
    "# Logistic Regression"
   ]
  },
  {
   "cell_type": "code",
   "execution_count": 24,
   "metadata": {},
   "outputs": [
    {
     "name": "stdout",
     "output_type": "stream",
     "text": [
      "[1 0 1 1 1 1 1 1 1 1 1 0 1 1 1 1 1 1 1 1 1 1 1 1 1 0 1 1 1 1 1 1 0 1 1 1 1\n",
      " 1 1 0 1 1 1 1 1 1 1 1 0 1 1 1 1 1 1 1 1 0 1 1 1 0 1 1 0 1 1 1 1 1 1 1 1]\n",
      "accuracy =  0.71\n",
      "              precision    recall  f1-score   support\n",
      "\n",
      "           0       0.78      0.27      0.40        26\n",
      "           1       0.70      0.96      0.81        47\n",
      "\n",
      "    accuracy                           0.71        73\n",
      "   macro avg       0.74      0.61      0.61        73\n",
      "weighted avg       0.73      0.71      0.66        73\n",
      "\n"
     ]
    },
    {
     "data": {
      "image/png": "[encoded data removed]",
      "text/plain": [
       "<Figure size 648x648 with 2 Axes>"
      ]
     },
     "metadata": {
      "needs_background": "light"
     },
     "output_type": "display_data"
    }
   ],
   "source": [
    "from sklearn.linear_model import LogisticRegression\n",
    "lr = LogisticRegression()\n",
    "lr.fit(x_train,y_train)\n",
    "y_pred = lr.predict(x_val)\n",
    "print(y_pred)\n",
    "accuracy = accuracy_score(y_val,y_pred)\n",
    "print(\"accuracy = \", round(accuracy,2))\n",
    "print(classification_report(y_val,y_pred))\n",
    "\n",
    "cm = confusion_matrix(y_val, y_pred)\n",
    "plt.figure(figsize=(9,9))\n",
    "\n",
    "sns.heatmap(cm,annot = True, fmt='.3f',linewidth=.5,square=True,cmap='Pastel1');\n",
    "plt.ylabel(\"Actual Label\");\n",
    "plt.xlabel(\"Predicted Label\");\n",
    "all_sample_title='Accuracy Score:{0}'.format(accuracy)\n",
    "plt.title(all_sample_title,size=15);\n"
   ]
  },
  {
   "cell_type": "markdown",
   "metadata": {},
   "source": [
    "# Nultinomial NB"
   ]
  },
  {
   "cell_type": "code",
   "execution_count": 25,
   "metadata": {},
   "outputs": [
    {
     "name": "stdout",
     "output_type": "stream",
     "text": [
      "[1 1 1 1 1 1 1 1 1 1 1 0 1 1 1 1 1 1 1 1 1 1 1 1 1 1 1 1 1 1 1 1 0 1 1 1 1\n",
      " 1 1 1 1 1 0 1 1 1 1 1 1 1 1 1 1 1 1 1 1 1 1 1 1 1 1 1 1 1 1 1 1 1 1 1 1]\n",
      "accuracy =  0.66\n",
      "              precision    recall  f1-score   support\n",
      "\n",
      "           0       0.67      0.08      0.14        26\n",
      "           1       0.66      0.98      0.79        47\n",
      "\n",
      "    accuracy                           0.66        73\n",
      "   macro avg       0.66      0.53      0.46        73\n",
      "weighted avg       0.66      0.66      0.56        73\n",
      "\n"
     ]
    },
    {
     "data": {
      "image/png": "[encoded data removed]",
      "text/plain": [
       "<Figure size 648x648 with 2 Axes>"
      ]
     },
     "metadata": {
      "needs_background": "light"
     },
     "output_type": "display_data"
    }
   ],
   "source": [
    "from sklearn.naive_bayes import MultinomialNB\n",
    "mnb = MultinomialNB()\n",
    "mnb.fit(x_train,y_train)\n",
    "y_pred = mnb.predict(x_val)\n",
    "print(y_pred)\n",
    "accuracy = accuracy_score(y_val,y_pred)\n",
    "print(\"accuracy = \", round(accuracy,2))\n",
    "print(classification_report(y_val,y_pred))\n",
    "\n",
    "cm = confusion_matrix(y_val, y_pred)\n",
    "plt.figure(figsize=(9,9))\n",
    "\n",
    "sns.heatmap(cm,annot = True, fmt='.3f',linewidth=.5,square=True,cmap='Pastel1');\n",
    "plt.ylabel(\"Actual Label\");\n",
    "plt.xlabel(\"Predicted Label\");\n",
    "all_sample_title='Accuracy Score:{0}'.format(accuracy)\n",
    "plt.title(all_sample_title,size=15);\n"
   ]
  },
  {
   "cell_type": "markdown",
   "metadata": {},
   "source": [
    "# XGBoost"
   ]
  },
  {
   "cell_type": "code",
   "execution_count": 26,
   "metadata": {},
   "outputs": [],
   "source": [
    "\n",
    "space={'max_depth': hp.quniform(\"max_depth\", 3, 18, 1),\n",
    "        'gamma': hp.uniform ('gamma', 1,9),\n",
    "        'reg_alpha' : hp.quniform('reg_alpha', 40,180,1),\n",
    "        'reg_lambda' : hp.uniform('reg_lambda', 0,1),\n",
    "        'colsample_bytree' : hp.uniform('colsample_bytree', 0.5,1),\n",
    "        'min_child_weight' : hp.quniform('min_child_weight', 0, 10, 1),\n",
    "        'n_estimators': 180,\n",
    "        'seed': 0\n",
    "    }\n",
    "def objective(space):\n",
    "    clf=XGBClassifier(\n",
    "                    n_estimators =space['n_estimators'], max_depth = int(space['max_depth']), gamma = space['gamma'],\n",
    "                    reg_alpha = int(space['reg_alpha']),min_child_weight=int(space['min_child_weight']),\n",
    "                    colsample_bytree=int(space['colsample_bytree']))\n",
    "    \n",
    "    evaluation = [( x_train, y_train), ( x_val, y_val)]\n",
    "    \n",
    "    clf.fit(x_train, y_train,\n",
    "            eval_set=evaluation, eval_metric=\"auc\",\n",
    "            early_stopping_rounds=10,verbose=False)\n",
    "    \n",
    "\n",
    "    y_pred = clf.predict(x_val)\n",
    "    accuracy = accuracy_score(y_val, y_pred>0.5)\n",
    "    print (\"SCORE:\", accuracy)\n",
    "    print(classification_report(y_val,y_pred))\n",
    "    return {'loss': -accuracy, 'status': STATUS_OK }"
   ]
  },
  {
   "cell_type": "code",
   "execution_count": 27,
   "metadata": {},
   "outputs": [
    {
     "name": "stdout",
     "output_type": "stream",
     "text": [
      "\r",
      "  0%|          | 0/100 [00:00<?, ?trial/s, best loss=?]"
     ]
    },
    {
     "name": "stderr",
     "output_type": "stream",
     "text": [
      "D:\\Anaconda3\\envs\\tf_env\\lib\\site-packages\\xgboost\\sklearn.py:888: UserWarning: The use of label encoder in XGBClassifier is deprecated and will be removed in a future release. To remove this warning, do the following: 1) Pass option use_label_encoder=False when constructing XGBClassifier object; and 2) Encode your labels (y) as integers starting with 0, i.e. 0, 1, 2, ..., [num_class - 1].\n",
      "  warnings.warn(label_encoder_deprecation_msg, UserWarning)\n",
      "\n"
     ]
    },
    {
     "name": "stdout",
     "output_type": "stream",
     "text": [
      "SCORE:                                                 \n",
      "0.6438356164383562                                     \n",
      "              precision    recall  f1-score   support  \n",
      "\n",
      "           0       0.00      0.00      0.00        26\n",
      "           1       0.64      1.00      0.78        47\n",
      "\n",
      "    accuracy                           0.64        73\n",
      "   macro avg       0.32      0.50      0.39        73\n",
      "weighted avg       0.41      0.64      0.50        73\n",
      "\n",
      "  1%|          | 1/100 [00:01<01:49,  1.11s/trial, best loss: -0.6438356164383562]"
     ]
    },
    {
     "name": "stderr",
     "output_type": "stream",
     "text": [
      "D:\\Anaconda3\\envs\\tf_env\\lib\\site-packages\\sklearn\\metrics\\_classification.py:1221: UndefinedMetricWarning: Precision and F-score are ill-defined and being set to 0.0 in labels with no predicted samples. Use `zero_division` parameter to control this behavior.\n",
      "  _warn_prf(average, modifier, msg_start, len(result))\n",
      "\n"
     ]
    },
    {
     "name": "stdout",
     "output_type": "stream",
     "text": [
      "SCORE:                                                                            \n",
      "0.3561643835616438                                                                \n",
      "              precision    recall  f1-score   support                             \n",
      "\n",
      "           0       0.36      1.00      0.53        26\n",
      "           1       0.00      0.00      0.00        47\n",
      "\n",
      "    accuracy                           0.36        73\n",
      "   macro avg       0.18      0.50      0.26        73\n",
      "weighted avg       0.13      0.36      0.19        73\n",
      "\n",
      "SCORE:                                                                            \n",
      "0.3561643835616438                                                                \n",
      "              precision    recall  f1-score   support                             \n",
      "\n",
      "           0       0.36      1.00      0.53        26\n",
      "           1       0.00      0.00      0.00        47\n",
      "\n",
      "    accuracy                           0.36        73\n",
      "   macro avg       0.18      0.50      0.26        73\n",
      "weighted avg       0.13      0.36      0.19        73\n",
      "\n",
      "SCORE:                                                                            \n",
      "0.6438356164383562                                                                \n",
      "              precision    recall  f1-score   support                             \n",
      "\n",
      "           0       0.00      0.00      0.00        26\n",
      "           1       0.64      1.00      0.78        47\n",
      "\n",
      "    accuracy                           0.64        73\n",
      "   macro avg       0.32      0.50      0.39        73\n",
      "weighted avg       0.41      0.64      0.50        73\n",
      "\n",
      "SCORE:                                                                            \n",
      "0.6438356164383562                                                                \n",
      "              precision    recall  f1-score   support                             \n",
      "\n",
      "           0       0.00      0.00      0.00        26\n",
      "           1       0.64      1.00      0.78        47\n",
      "\n",
      "    accuracy                           0.64        73\n",
      "   macro avg       0.32      0.50      0.39        73\n",
      "weighted avg       0.41      0.64      0.50        73\n",
      "\n",
      "SCORE:                                                                            \n",
      "0.3561643835616438                                                                \n",
      "              precision    recall  f1-score   support                             \n",
      "\n",
      "           0       0.36      1.00      0.53        26\n",
      "           1       0.00      0.00      0.00        47\n",
      "\n",
      "    accuracy                           0.36        73\n",
      "   macro avg       0.18      0.50      0.26        73\n",
      "weighted avg       0.13      0.36      0.19        73\n",
      "\n",
      "SCORE:                                                                            \n",
      "0.3561643835616438                                                                \n",
      "              precision    recall  f1-score   support                             \n",
      "\n",
      "           0       0.36      1.00      0.53        26\n",
      "           1       0.00      0.00      0.00        47\n",
      "\n",
      "    accuracy                           0.36        73\n",
      "   macro avg       0.18      0.50      0.26        73\n",
      "weighted avg       0.13      0.36      0.19        73\n",
      "\n",
      "SCORE:                                                                            \n",
      "0.6438356164383562                                                                \n",
      "              precision    recall  f1-score   support                             \n",
      "\n",
      "           0       0.00      0.00      0.00        26\n",
      "           1       0.64      1.00      0.78        47\n",
      "\n",
      "    accuracy                           0.64        73\n",
      "   macro avg       0.32      0.50      0.39        73\n",
      "weighted avg       0.41      0.64      0.50        73\n",
      "\n",
      "SCORE:                                                                            \n",
      "0.3561643835616438                                                                \n",
      "              precision    recall  f1-score   support                             \n",
      "\n",
      "           0       0.36      1.00      0.53        26\n",
      "           1       0.00      0.00      0.00        47\n",
      "\n",
      "    accuracy                           0.36        73\n",
      "   macro avg       0.18      0.50      0.26        73\n",
      "weighted avg       0.13      0.36      0.19        73\n",
      "\n",
      "SCORE:                                                                            \n",
      "0.6438356164383562                                                                \n",
      "              precision    recall  f1-score   support                             \n",
      "\n",
      "           0       0.00      0.00      0.00        26\n",
      "           1       0.64      1.00      0.78        47\n",
      "\n",
      "    accuracy                           0.64        73\n",
      "   macro avg       0.32      0.50      0.39        73\n",
      "weighted avg       0.41      0.64      0.50        73\n",
      "\n",
      "SCORE:                                                                             \n",
      "0.3561643835616438                                                                 \n",
      "              precision    recall  f1-score   support                              \n",
      "\n",
      "           0       0.36      1.00      0.53        26\n",
      "           1       0.00      0.00      0.00        47\n",
      "\n",
      "    accuracy                           0.36        73\n",
      "   macro avg       0.18      0.50      0.26        73\n",
      "weighted avg       0.13      0.36      0.19        73\n",
      "\n",
      "SCORE:                                                                             \n",
      "0.3561643835616438                                                                 \n",
      "              precision    recall  f1-score   support                              \n",
      "\n",
      "           0       0.36      1.00      0.53        26\n",
      "           1       0.00      0.00      0.00        47\n",
      "\n",
      "    accuracy                           0.36        73\n",
      "   macro avg       0.18      0.50      0.26        73\n",
      "weighted avg       0.13      0.36      0.19        73\n",
      "\n",
      "SCORE:                                                                             \n",
      "0.6438356164383562                                                                 \n",
      "              precision    recall  f1-score   support                              \n",
      "\n",
      "           0       0.00      0.00      0.00        26\n",
      "           1       0.64      1.00      0.78        47\n",
      "\n",
      "    accuracy                           0.64        73\n",
      "   macro avg       0.32      0.50      0.39        73\n",
      "weighted avg       0.41      0.64      0.50        73\n",
      "\n",
      "SCORE:                                                                             \n",
      "0.3561643835616438                                                                 \n",
      "              precision    recall  f1-score   support                              \n",
      "\n",
      "           0       0.36      1.00      0.53        26\n",
      "           1       0.00      0.00      0.00        47\n",
      "\n",
      "    accuracy                           0.36        73\n",
      "   macro avg       0.18      0.50      0.26        73\n",
      "weighted avg       0.13      0.36      0.19        73\n",
      "\n",
      "SCORE:                                                                             \n",
      "0.3561643835616438                                                                 \n",
      "              precision    recall  f1-score   support                              \n",
      "\n",
      "           0       0.36      1.00      0.53        26\n",
      "           1       0.00      0.00      0.00        47\n",
      "\n",
      "    accuracy                           0.36        73\n",
      "   macro avg       0.18      0.50      0.26        73\n",
      "weighted avg       0.13      0.36      0.19        73\n",
      "\n",
      "SCORE:                                                                             \n",
      "0.3561643835616438                                                                 \n",
      "              precision    recall  f1-score   support                              \n",
      "\n",
      "           0       0.36      1.00      0.53        26\n",
      "           1       0.00      0.00      0.00        47\n",
      "\n",
      "    accuracy                           0.36        73\n",
      "   macro avg       0.18      0.50      0.26        73\n",
      "weighted avg       0.13      0.36      0.19        73\n",
      "\n",
      "SCORE:                                                                             \n",
      "0.3561643835616438                                                                 \n",
      "              precision    recall  f1-score   support                              \n",
      "\n",
      "           0       0.36      1.00      0.53        26\n",
      "           1       0.00      0.00      0.00        47\n",
      "\n",
      "    accuracy                           0.36        73\n",
      "   macro avg       0.18      0.50      0.26        73\n",
      "weighted avg       0.13      0.36      0.19        73\n",
      "\n"
     ]
    },
    {
     "name": "stdout",
     "output_type": "stream",
     "text": [
      "SCORE:                                                                             \n",
      "0.6438356164383562                                                                 \n",
      "              precision    recall  f1-score   support                              \n",
      "\n",
      "           0       0.00      0.00      0.00        26\n",
      "           1       0.64      1.00      0.78        47\n",
      "\n",
      "    accuracy                           0.64        73\n",
      "   macro avg       0.32      0.50      0.39        73\n",
      "weighted avg       0.41      0.64      0.50        73\n",
      "\n",
      "SCORE:                                                                             \n",
      "0.3561643835616438                                                                 \n",
      "              precision    recall  f1-score   support                              \n",
      "\n",
      "           0       0.36      1.00      0.53        26\n",
      "           1       0.00      0.00      0.00        47\n",
      "\n",
      "    accuracy                           0.36        73\n",
      "   macro avg       0.18      0.50      0.26        73\n",
      "weighted avg       0.13      0.36      0.19        73\n",
      "\n",
      "SCORE:                                                                             \n",
      "0.3561643835616438                                                                 \n",
      "              precision    recall  f1-score   support                              \n",
      "\n",
      "           0       0.36      1.00      0.53        26\n",
      "           1       0.00      0.00      0.00        47\n",
      "\n",
      "    accuracy                           0.36        73\n",
      "   macro avg       0.18      0.50      0.26        73\n",
      "weighted avg       0.13      0.36      0.19        73\n",
      "\n",
      "SCORE:                                                                             \n",
      "0.6438356164383562                                                                 \n",
      "              precision    recall  f1-score   support                              \n",
      "\n",
      "           0       0.00      0.00      0.00        26\n",
      "           1       0.64      1.00      0.78        47\n",
      "\n",
      "    accuracy                           0.64        73\n",
      "   macro avg       0.32      0.50      0.39        73\n",
      "weighted avg       0.41      0.64      0.50        73\n",
      "\n",
      "SCORE:                                                                             \n",
      "0.6438356164383562                                                                 \n",
      "              precision    recall  f1-score   support                              \n",
      "\n",
      "           0       0.00      0.00      0.00        26\n",
      "           1       0.64      1.00      0.78        47\n",
      "\n",
      "    accuracy                           0.64        73\n",
      "   macro avg       0.32      0.50      0.39        73\n",
      "weighted avg       0.41      0.64      0.50        73\n",
      "\n",
      "SCORE:                                                                             \n",
      "0.3561643835616438                                                                 \n",
      "              precision    recall  f1-score   support                              \n",
      "\n",
      "           0       0.36      1.00      0.53        26\n",
      "           1       0.00      0.00      0.00        47\n",
      "\n",
      "    accuracy                           0.36        73\n",
      "   macro avg       0.18      0.50      0.26        73\n",
      "weighted avg       0.13      0.36      0.19        73\n",
      "\n",
      "SCORE:                                                                             \n",
      "0.6438356164383562                                                                 \n",
      "              precision    recall  f1-score   support                              \n",
      "\n",
      "           0       0.00      0.00      0.00        26\n",
      "           1       0.64      1.00      0.78        47\n",
      "\n",
      "    accuracy                           0.64        73\n",
      "   macro avg       0.32      0.50      0.39        73\n",
      "weighted avg       0.41      0.64      0.50        73\n",
      "\n",
      "SCORE:                                                                             \n",
      "0.3561643835616438                                                                 \n",
      "              precision    recall  f1-score   support                              \n",
      "\n",
      "           0       0.36      1.00      0.53        26\n",
      "           1       0.00      0.00      0.00        47\n",
      "\n",
      "    accuracy                           0.36        73\n",
      "   macro avg       0.18      0.50      0.26        73\n",
      "weighted avg       0.13      0.36      0.19        73\n",
      "\n",
      "SCORE:                                                                             \n",
      "0.6438356164383562                                                                 \n",
      "              precision    recall  f1-score   support                              \n",
      "\n",
      "           0       0.00      0.00      0.00        26\n",
      "           1       0.64      1.00      0.78        47\n",
      "\n",
      "    accuracy                           0.64        73\n",
      "   macro avg       0.32      0.50      0.39        73\n",
      "weighted avg       0.41      0.64      0.50        73\n",
      "\n",
      "SCORE:                                                                             \n",
      "0.6438356164383562                                                                 \n",
      "              precision    recall  f1-score   support                              \n",
      "\n",
      "           0       0.00      0.00      0.00        26\n",
      "           1       0.64      1.00      0.78        47\n",
      "\n",
      "    accuracy                           0.64        73\n",
      "   macro avg       0.32      0.50      0.39        73\n",
      "weighted avg       0.41      0.64      0.50        73\n",
      "\n",
      "SCORE:                                                                             \n",
      "0.3561643835616438                                                                 \n",
      "              precision    recall  f1-score   support                              \n",
      "\n",
      "           0       0.36      1.00      0.53        26\n",
      "           1       0.00      0.00      0.00        47\n",
      "\n",
      "    accuracy                           0.36        73\n",
      "   macro avg       0.18      0.50      0.26        73\n",
      "weighted avg       0.13      0.36      0.19        73\n",
      "\n",
      "SCORE:                                                                             \n",
      "0.6438356164383562                                                                 \n",
      "              precision    recall  f1-score   support                              \n",
      "\n",
      "           0       0.00      0.00      0.00        26\n",
      "           1       0.64      1.00      0.78        47\n",
      "\n",
      "    accuracy                           0.64        73\n",
      "   macro avg       0.32      0.50      0.39        73\n",
      "weighted avg       0.41      0.64      0.50        73\n",
      "\n",
      "SCORE:                                                                             \n",
      "0.6438356164383562                                                                 \n",
      "              precision    recall  f1-score   support                              \n",
      "\n",
      "           0       0.00      0.00      0.00        26\n",
      "           1       0.64      1.00      0.78        47\n",
      "\n",
      "    accuracy                           0.64        73\n",
      "   macro avg       0.32      0.50      0.39        73\n",
      "weighted avg       0.41      0.64      0.50        73\n",
      "\n",
      "SCORE:                                                                             \n",
      "0.3561643835616438                                                                 \n",
      "              precision    recall  f1-score   support                              \n",
      "\n",
      "           0       0.36      1.00      0.53        26\n",
      "           1       0.00      0.00      0.00        47\n",
      "\n",
      "    accuracy                           0.36        73\n",
      "   macro avg       0.18      0.50      0.26        73\n",
      "weighted avg       0.13      0.36      0.19        73\n",
      "\n",
      "SCORE:                                                                             \n",
      "0.3561643835616438                                                                 \n",
      "              precision    recall  f1-score   support                              \n",
      "\n",
      "           0       0.36      1.00      0.53        26\n",
      "           1       0.00      0.00      0.00        47\n",
      "\n",
      "    accuracy                           0.36        73\n",
      "   macro avg       0.18      0.50      0.26        73\n",
      "weighted avg       0.13      0.36      0.19        73\n",
      "\n",
      "SCORE:                                                                             \n",
      "0.3561643835616438                                                                 \n",
      "              precision    recall  f1-score   support                              \n",
      "\n",
      "           0       0.36      1.00      0.53        26\n",
      "           1       0.00      0.00      0.00        47\n",
      "\n",
      "    accuracy                           0.36        73\n",
      "   macro avg       0.18      0.50      0.26        73\n",
      "weighted avg       0.13      0.36      0.19        73\n",
      "\n"
     ]
    },
    {
     "name": "stdout",
     "output_type": "stream",
     "text": [
      "SCORE:                                                                             \n",
      "0.6438356164383562                                                                 \n",
      "              precision    recall  f1-score   support                              \n",
      "\n",
      "           0       0.00      0.00      0.00        26\n",
      "           1       0.64      1.00      0.78        47\n",
      "\n",
      "    accuracy                           0.64        73\n",
      "   macro avg       0.32      0.50      0.39        73\n",
      "weighted avg       0.41      0.64      0.50        73\n",
      "\n",
      "SCORE:                                                                             \n",
      "0.6438356164383562                                                                 \n",
      "              precision    recall  f1-score   support                              \n",
      "\n",
      "           0       0.00      0.00      0.00        26\n",
      "           1       0.64      1.00      0.78        47\n",
      "\n",
      "    accuracy                           0.64        73\n",
      "   macro avg       0.32      0.50      0.39        73\n",
      "weighted avg       0.41      0.64      0.50        73\n",
      "\n",
      "SCORE:                                                                             \n",
      "0.6438356164383562                                                                 \n",
      "              precision    recall  f1-score   support                              \n",
      "\n",
      "           0       0.00      0.00      0.00        26\n",
      "           1       0.64      1.00      0.78        47\n",
      "\n",
      "    accuracy                           0.64        73\n",
      "   macro avg       0.32      0.50      0.39        73\n",
      "weighted avg       0.41      0.64      0.50        73\n",
      "\n",
      "SCORE:                                                                             \n",
      "0.6438356164383562                                                                 \n",
      "              precision    recall  f1-score   support                              \n",
      "\n",
      "           0       0.00      0.00      0.00        26\n",
      "           1       0.64      1.00      0.78        47\n",
      "\n",
      "    accuracy                           0.64        73\n",
      "   macro avg       0.32      0.50      0.39        73\n",
      "weighted avg       0.41      0.64      0.50        73\n",
      "\n",
      "SCORE:                                                                             \n",
      "0.3561643835616438                                                                 \n",
      "              precision    recall  f1-score   support                              \n",
      "\n",
      "           0       0.36      1.00      0.53        26\n",
      "           1       0.00      0.00      0.00        47\n",
      "\n",
      "    accuracy                           0.36        73\n",
      "   macro avg       0.18      0.50      0.26        73\n",
      "weighted avg       0.13      0.36      0.19        73\n",
      "\n",
      "SCORE:                                                                             \n",
      "0.3561643835616438                                                                 \n",
      "              precision    recall  f1-score   support                              \n",
      "\n",
      "           0       0.36      1.00      0.53        26\n",
      "           1       0.00      0.00      0.00        47\n",
      "\n",
      "    accuracy                           0.36        73\n",
      "   macro avg       0.18      0.50      0.26        73\n",
      "weighted avg       0.13      0.36      0.19        73\n",
      "\n",
      "SCORE:                                                                             \n",
      "0.6438356164383562                                                                 \n",
      "              precision    recall  f1-score   support                              \n",
      "\n",
      "           0       0.00      0.00      0.00        26\n",
      "           1       0.64      1.00      0.78        47\n",
      "\n",
      "    accuracy                           0.64        73\n",
      "   macro avg       0.32      0.50      0.39        73\n",
      "weighted avg       0.41      0.64      0.50        73\n",
      "\n",
      "SCORE:                                                                             \n",
      "0.6438356164383562                                                                 \n",
      "              precision    recall  f1-score   support                              \n",
      "\n",
      "           0       0.00      0.00      0.00        26\n",
      "           1       0.64      1.00      0.78        47\n",
      "\n",
      "    accuracy                           0.64        73\n",
      "   macro avg       0.32      0.50      0.39        73\n",
      "weighted avg       0.41      0.64      0.50        73\n",
      "\n",
      "SCORE:                                                                             \n",
      "0.3561643835616438                                                                 \n",
      "              precision    recall  f1-score   support                              \n",
      "\n",
      "           0       0.36      1.00      0.53        26\n",
      "           1       0.00      0.00      0.00        47\n",
      "\n",
      "    accuracy                           0.36        73\n",
      "   macro avg       0.18      0.50      0.26        73\n",
      "weighted avg       0.13      0.36      0.19        73\n",
      "\n",
      "SCORE:                                                                             \n",
      "0.3561643835616438                                                                 \n",
      "              precision    recall  f1-score   support                              \n",
      "\n",
      "           0       0.36      1.00      0.53        26\n",
      "           1       0.00      0.00      0.00        47\n",
      "\n",
      "    accuracy                           0.36        73\n",
      "   macro avg       0.18      0.50      0.26        73\n",
      "weighted avg       0.13      0.36      0.19        73\n",
      "\n",
      "SCORE:                                                                             \n",
      "0.6438356164383562                                                                 \n",
      "              precision    recall  f1-score   support                              \n",
      "\n",
      "           0       0.00      0.00      0.00        26\n",
      "           1       0.64      1.00      0.78        47\n",
      "\n",
      "    accuracy                           0.64        73\n",
      "   macro avg       0.32      0.50      0.39        73\n",
      "weighted avg       0.41      0.64      0.50        73\n",
      "\n",
      "SCORE:                                                                             \n",
      "0.3561643835616438                                                                 \n",
      "              precision    recall  f1-score   support                              \n",
      "\n",
      "           0       0.36      1.00      0.53        26\n",
      "           1       0.00      0.00      0.00        47\n",
      "\n",
      "    accuracy                           0.36        73\n",
      "   macro avg       0.18      0.50      0.26        73\n",
      "weighted avg       0.13      0.36      0.19        73\n",
      "\n",
      "SCORE:                                                                             \n",
      "0.3561643835616438                                                                 \n",
      "              precision    recall  f1-score   support                              \n",
      "\n",
      "           0       0.36      1.00      0.53        26\n",
      "           1       0.00      0.00      0.00        47\n",
      "\n",
      "    accuracy                           0.36        73\n",
      "   macro avg       0.18      0.50      0.26        73\n",
      "weighted avg       0.13      0.36      0.19        73\n",
      "\n",
      "SCORE:                                                                             \n",
      "0.6438356164383562                                                                 \n",
      "              precision    recall  f1-score   support                              \n",
      "\n",
      "           0       0.00      0.00      0.00        26\n",
      "           1       0.64      1.00      0.78        47\n",
      "\n",
      "    accuracy                           0.64        73\n",
      "   macro avg       0.32      0.50      0.39        73\n",
      "weighted avg       0.41      0.64      0.50        73\n",
      "\n",
      "SCORE:                                                                             \n",
      "0.3561643835616438                                                                 \n",
      "              precision    recall  f1-score   support                              \n",
      "\n",
      "           0       0.36      1.00      0.53        26\n",
      "           1       0.00      0.00      0.00        47\n",
      "\n",
      "    accuracy                           0.36        73\n",
      "   macro avg       0.18      0.50      0.26        73\n",
      "weighted avg       0.13      0.36      0.19        73\n",
      "\n",
      "SCORE:                                                                             \n",
      "0.6438356164383562                                                                 \n",
      "              precision    recall  f1-score   support                              \n",
      "\n",
      "           0       0.00      0.00      0.00        26\n",
      "           1       0.64      1.00      0.78        47\n",
      "\n",
      "    accuracy                           0.64        73\n",
      "   macro avg       0.32      0.50      0.39        73\n",
      "weighted avg       0.41      0.64      0.50        73\n",
      "\n"
     ]
    },
    {
     "name": "stdout",
     "output_type": "stream",
     "text": [
      "SCORE:                                                                             \n",
      "0.6438356164383562                                                                 \n",
      "              precision    recall  f1-score   support                              \n",
      "\n",
      "           0       0.00      0.00      0.00        26\n",
      "           1       0.64      1.00      0.78        47\n",
      "\n",
      "    accuracy                           0.64        73\n",
      "   macro avg       0.32      0.50      0.39        73\n",
      "weighted avg       0.41      0.64      0.50        73\n",
      "\n",
      "SCORE:                                                                             \n",
      "0.6438356164383562                                                                 \n",
      "              precision    recall  f1-score   support                              \n",
      "\n",
      "           0       0.00      0.00      0.00        26\n",
      "           1       0.64      1.00      0.78        47\n",
      "\n",
      "    accuracy                           0.64        73\n",
      "   macro avg       0.32      0.50      0.39        73\n",
      "weighted avg       0.41      0.64      0.50        73\n",
      "\n",
      "SCORE:                                                                             \n",
      "0.6438356164383562                                                                 \n",
      "              precision    recall  f1-score   support                              \n",
      "\n",
      "           0       0.00      0.00      0.00        26\n",
      "           1       0.64      1.00      0.78        47\n",
      "\n",
      "    accuracy                           0.64        73\n",
      "   macro avg       0.32      0.50      0.39        73\n",
      "weighted avg       0.41      0.64      0.50        73\n",
      "\n",
      "SCORE:                                                                             \n",
      "0.3561643835616438                                                                 \n",
      "              precision    recall  f1-score   support                              \n",
      "\n",
      "           0       0.36      1.00      0.53        26\n",
      "           1       0.00      0.00      0.00        47\n",
      "\n",
      "    accuracy                           0.36        73\n",
      "   macro avg       0.18      0.50      0.26        73\n",
      "weighted avg       0.13      0.36      0.19        73\n",
      "\n",
      "SCORE:                                                                             \n",
      "0.3561643835616438                                                                 \n",
      "              precision    recall  f1-score   support                              \n",
      "\n",
      "           0       0.36      1.00      0.53        26\n",
      "           1       0.00      0.00      0.00        47\n",
      "\n",
      "    accuracy                           0.36        73\n",
      "   macro avg       0.18      0.50      0.26        73\n",
      "weighted avg       0.13      0.36      0.19        73\n",
      "\n",
      "SCORE:                                                                             \n",
      "0.3561643835616438                                                                 \n",
      "              precision    recall  f1-score   support                              \n",
      "\n",
      "           0       0.36      1.00      0.53        26\n",
      "           1       0.00      0.00      0.00        47\n",
      "\n",
      "    accuracy                           0.36        73\n",
      "   macro avg       0.18      0.50      0.26        73\n",
      "weighted avg       0.13      0.36      0.19        73\n",
      "\n",
      "SCORE:                                                                             \n",
      "0.3561643835616438                                                                 \n",
      "              precision    recall  f1-score   support                              \n",
      "\n",
      "           0       0.36      1.00      0.53        26\n",
      "           1       0.00      0.00      0.00        47\n",
      "\n",
      "    accuracy                           0.36        73\n",
      "   macro avg       0.18      0.50      0.26        73\n",
      "weighted avg       0.13      0.36      0.19        73\n",
      "\n",
      "SCORE:                                                                             \n",
      "0.6438356164383562                                                                 \n",
      "              precision    recall  f1-score   support                              \n",
      "\n",
      "           0       0.00      0.00      0.00        26\n",
      "           1       0.64      1.00      0.78        47\n",
      "\n",
      "    accuracy                           0.64        73\n",
      "   macro avg       0.32      0.50      0.39        73\n",
      "weighted avg       0.41      0.64      0.50        73\n",
      "\n",
      "SCORE:                                                                             \n",
      "0.6438356164383562                                                                 \n",
      "              precision    recall  f1-score   support                              \n",
      "\n",
      "           0       0.00      0.00      0.00        26\n",
      "           1       0.64      1.00      0.78        47\n",
      "\n",
      "    accuracy                           0.64        73\n",
      "   macro avg       0.32      0.50      0.39        73\n",
      "weighted avg       0.41      0.64      0.50        73\n",
      "\n",
      "SCORE:                                                                             \n",
      "0.3561643835616438                                                                 \n",
      "              precision    recall  f1-score   support                              \n",
      "\n",
      "           0       0.36      1.00      0.53        26\n",
      "           1       0.00      0.00      0.00        47\n",
      "\n",
      "    accuracy                           0.36        73\n",
      "   macro avg       0.18      0.50      0.26        73\n",
      "weighted avg       0.13      0.36      0.19        73\n",
      "\n",
      "SCORE:                                                                             \n",
      "0.3561643835616438                                                                 \n",
      "              precision    recall  f1-score   support                              \n",
      "\n",
      "           0       0.36      1.00      0.53        26\n",
      "           1       0.00      0.00      0.00        47\n",
      "\n",
      "    accuracy                           0.36        73\n",
      "   macro avg       0.18      0.50      0.26        73\n",
      "weighted avg       0.13      0.36      0.19        73\n",
      "\n",
      "SCORE:                                                                             \n",
      "0.6438356164383562                                                                 \n",
      "              precision    recall  f1-score   support                              \n",
      "\n",
      "           0       0.00      0.00      0.00        26\n",
      "           1       0.64      1.00      0.78        47\n",
      "\n",
      "    accuracy                           0.64        73\n",
      "   macro avg       0.32      0.50      0.39        73\n",
      "weighted avg       0.41      0.64      0.50        73\n",
      "\n",
      "SCORE:                                                                             \n",
      "0.3561643835616438                                                                 \n",
      "              precision    recall  f1-score   support                              \n",
      "\n",
      "           0       0.36      1.00      0.53        26\n",
      "           1       0.00      0.00      0.00        47\n",
      "\n",
      "    accuracy                           0.36        73\n",
      "   macro avg       0.18      0.50      0.26        73\n",
      "weighted avg       0.13      0.36      0.19        73\n",
      "\n",
      "SCORE:                                                                             \n",
      "0.6438356164383562                                                                 \n",
      "              precision    recall  f1-score   support                              \n",
      "\n",
      "           0       0.00      0.00      0.00        26\n",
      "           1       0.64      1.00      0.78        47\n",
      "\n",
      "    accuracy                           0.64        73\n",
      "   macro avg       0.32      0.50      0.39        73\n",
      "weighted avg       0.41      0.64      0.50        73\n",
      "\n",
      "SCORE:                                                                             \n",
      "0.3561643835616438                                                                 \n",
      "              precision    recall  f1-score   support                              \n",
      "\n",
      "           0       0.36      1.00      0.53        26\n",
      "           1       0.00      0.00      0.00        47\n",
      "\n",
      "    accuracy                           0.36        73\n",
      "   macro avg       0.18      0.50      0.26        73\n",
      "weighted avg       0.13      0.36      0.19        73\n",
      "\n",
      "SCORE:                                                                             \n",
      "0.6438356164383562                                                                 \n",
      "              precision    recall  f1-score   support                              \n",
      "\n",
      "           0       0.00      0.00      0.00        26\n",
      "           1       0.64      1.00      0.78        47\n",
      "\n",
      "    accuracy                           0.64        73\n",
      "   macro avg       0.32      0.50      0.39        73\n",
      "weighted avg       0.41      0.64      0.50        73\n",
      "\n"
     ]
    },
    {
     "name": "stdout",
     "output_type": "stream",
     "text": [
      "SCORE:                                                                             \n",
      "0.6438356164383562                                                                 \n",
      "              precision    recall  f1-score   support                              \n",
      "\n",
      "           0       0.00      0.00      0.00        26\n",
      "           1       0.64      1.00      0.78        47\n",
      "\n",
      "    accuracy                           0.64        73\n",
      "   macro avg       0.32      0.50      0.39        73\n",
      "weighted avg       0.41      0.64      0.50        73\n",
      "\n",
      "SCORE:                                                                             \n",
      "0.6438356164383562                                                                 \n",
      "              precision    recall  f1-score   support                              \n",
      "\n",
      "           0       0.00      0.00      0.00        26\n",
      "           1       0.64      1.00      0.78        47\n",
      "\n",
      "    accuracy                           0.64        73\n",
      "   macro avg       0.32      0.50      0.39        73\n",
      "weighted avg       0.41      0.64      0.50        73\n",
      "\n",
      "SCORE:                                                                             \n",
      "0.6438356164383562                                                                 \n",
      "              precision    recall  f1-score   support                              \n",
      "\n",
      "           0       0.00      0.00      0.00        26\n",
      "           1       0.64      1.00      0.78        47\n",
      "\n",
      "    accuracy                           0.64        73\n",
      "   macro avg       0.32      0.50      0.39        73\n",
      "weighted avg       0.41      0.64      0.50        73\n",
      "\n",
      "SCORE:                                                                             \n",
      "0.3561643835616438                                                                 \n",
      "              precision    recall  f1-score   support                              \n",
      "\n",
      "           0       0.36      1.00      0.53        26\n",
      "           1       0.00      0.00      0.00        47\n",
      "\n",
      "    accuracy                           0.36        73\n",
      "   macro avg       0.18      0.50      0.26        73\n",
      "weighted avg       0.13      0.36      0.19        73\n",
      "\n",
      "SCORE:                                                                             \n",
      "0.6438356164383562                                                                 \n",
      "              precision    recall  f1-score   support                              \n",
      "\n",
      "           0       0.00      0.00      0.00        26\n",
      "           1       0.64      1.00      0.78        47\n",
      "\n",
      "    accuracy                           0.64        73\n",
      "   macro avg       0.32      0.50      0.39        73\n",
      "weighted avg       0.41      0.64      0.50        73\n",
      "\n",
      "SCORE:                                                                             \n",
      "0.3561643835616438                                                                 \n",
      "              precision    recall  f1-score   support                              \n",
      "\n",
      "           0       0.36      1.00      0.53        26\n",
      "           1       0.00      0.00      0.00        47\n",
      "\n",
      "    accuracy                           0.36        73\n",
      "   macro avg       0.18      0.50      0.26        73\n",
      "weighted avg       0.13      0.36      0.19        73\n",
      "\n",
      "SCORE:                                                                             \n",
      "0.6438356164383562                                                                 \n",
      "              precision    recall  f1-score   support                              \n",
      "\n",
      "           0       0.00      0.00      0.00        26\n",
      "           1       0.64      1.00      0.78        47\n",
      "\n",
      "    accuracy                           0.64        73\n",
      "   macro avg       0.32      0.50      0.39        73\n",
      "weighted avg       0.41      0.64      0.50        73\n",
      "\n",
      "SCORE:                                                                             \n",
      "0.3561643835616438                                                                 \n",
      "              precision    recall  f1-score   support                              \n",
      "\n",
      "           0       0.36      1.00      0.53        26\n",
      "           1       0.00      0.00      0.00        47\n",
      "\n",
      "    accuracy                           0.36        73\n",
      "   macro avg       0.18      0.50      0.26        73\n",
      "weighted avg       0.13      0.36      0.19        73\n",
      "\n",
      "SCORE:                                                                             \n",
      "0.6438356164383562                                                                 \n",
      "              precision    recall  f1-score   support                              \n",
      "\n",
      "           0       0.00      0.00      0.00        26\n",
      "           1       0.64      1.00      0.78        47\n",
      "\n",
      "    accuracy                           0.64        73\n",
      "   macro avg       0.32      0.50      0.39        73\n",
      "weighted avg       0.41      0.64      0.50        73\n",
      "\n",
      "SCORE:                                                                             \n",
      "0.6438356164383562                                                                 \n",
      "              precision    recall  f1-score   support                              \n",
      "\n",
      "           0       0.00      0.00      0.00        26\n",
      "           1       0.64      1.00      0.78        47\n",
      "\n",
      "    accuracy                           0.64        73\n",
      "   macro avg       0.32      0.50      0.39        73\n",
      "weighted avg       0.41      0.64      0.50        73\n",
      "\n",
      "SCORE:                                                                             \n",
      "0.6438356164383562                                                                 \n",
      "              precision    recall  f1-score   support                              \n",
      "\n",
      "           0       0.00      0.00      0.00        26\n",
      "           1       0.64      1.00      0.78        47\n",
      "\n",
      "    accuracy                           0.64        73\n",
      "   macro avg       0.32      0.50      0.39        73\n",
      "weighted avg       0.41      0.64      0.50        73\n",
      "\n",
      "SCORE:                                                                             \n",
      "0.6438356164383562                                                                 \n",
      "              precision    recall  f1-score   support                              \n",
      "\n",
      "           0       0.00      0.00      0.00        26\n",
      "           1       0.64      1.00      0.78        47\n",
      "\n",
      "    accuracy                           0.64        73\n",
      "   macro avg       0.32      0.50      0.39        73\n",
      "weighted avg       0.41      0.64      0.50        73\n",
      "\n",
      "SCORE:                                                                             \n",
      "0.3561643835616438                                                                 \n",
      "              precision    recall  f1-score   support                              \n",
      "\n",
      "           0       0.36      1.00      0.53        26\n",
      "           1       0.00      0.00      0.00        47\n",
      "\n",
      "    accuracy                           0.36        73\n",
      "   macro avg       0.18      0.50      0.26        73\n",
      "weighted avg       0.13      0.36      0.19        73\n",
      "\n",
      "SCORE:                                                                             \n",
      "0.6438356164383562                                                                 \n",
      "              precision    recall  f1-score   support                              \n",
      "\n",
      "           0       0.00      0.00      0.00        26\n",
      "           1       0.64      1.00      0.78        47\n",
      "\n",
      "    accuracy                           0.64        73\n",
      "   macro avg       0.32      0.50      0.39        73\n",
      "weighted avg       0.41      0.64      0.50        73\n",
      "\n",
      "SCORE:                                                                             \n",
      "0.3561643835616438                                                                 \n",
      "              precision    recall  f1-score   support                              \n",
      "\n",
      "           0       0.36      1.00      0.53        26\n",
      "           1       0.00      0.00      0.00        47\n",
      "\n",
      "    accuracy                           0.36        73\n",
      "   macro avg       0.18      0.50      0.26        73\n",
      "weighted avg       0.13      0.36      0.19        73\n",
      "\n",
      "SCORE:                                                                             \n",
      "0.6438356164383562                                                                 \n",
      "              precision    recall  f1-score   support                              \n",
      "\n",
      "           0       0.00      0.00      0.00        26\n",
      "           1       0.64      1.00      0.78        47\n",
      "\n",
      "    accuracy                           0.64        73\n",
      "   macro avg       0.32      0.50      0.39        73\n",
      "weighted avg       0.41      0.64      0.50        73\n",
      "\n"
     ]
    },
    {
     "name": "stdout",
     "output_type": "stream",
     "text": [
      "SCORE:                                                                             \n",
      "0.6438356164383562                                                                 \n",
      "              precision    recall  f1-score   support                              \n",
      "\n",
      "           0       0.00      0.00      0.00        26\n",
      "           1       0.64      1.00      0.78        47\n",
      "\n",
      "    accuracy                           0.64        73\n",
      "   macro avg       0.32      0.50      0.39        73\n",
      "weighted avg       0.41      0.64      0.50        73\n",
      "\n",
      "SCORE:                                                                             \n",
      "0.3561643835616438                                                                 \n",
      "              precision    recall  f1-score   support                              \n",
      "\n",
      "           0       0.36      1.00      0.53        26\n",
      "           1       0.00      0.00      0.00        47\n",
      "\n",
      "    accuracy                           0.36        73\n",
      "   macro avg       0.18      0.50      0.26        73\n",
      "weighted avg       0.13      0.36      0.19        73\n",
      "\n",
      "SCORE:                                                                             \n",
      "0.6438356164383562                                                                 \n",
      "              precision    recall  f1-score   support                              \n",
      "\n",
      "           0       0.00      0.00      0.00        26\n",
      "           1       0.64      1.00      0.78        47\n",
      "\n",
      "    accuracy                           0.64        73\n",
      "   macro avg       0.32      0.50      0.39        73\n",
      "weighted avg       0.41      0.64      0.50        73\n",
      "\n",
      "SCORE:                                                                             \n",
      "0.3561643835616438                                                                 \n",
      "              precision    recall  f1-score   support                              \n",
      "\n",
      "           0       0.36      1.00      0.53        26\n",
      "           1       0.00      0.00      0.00        47\n",
      "\n",
      "    accuracy                           0.36        73\n",
      "   macro avg       0.18      0.50      0.26        73\n",
      "weighted avg       0.13      0.36      0.19        73\n",
      "\n",
      "SCORE:                                                                             \n",
      "0.6438356164383562                                                                 \n",
      "              precision    recall  f1-score   support                              \n",
      "\n",
      "           0       0.00      0.00      0.00        26\n",
      "           1       0.64      1.00      0.78        47\n",
      "\n",
      "    accuracy                           0.64        73\n",
      "   macro avg       0.32      0.50      0.39        73\n",
      "weighted avg       0.41      0.64      0.50        73\n",
      "\n",
      "SCORE:                                                                             \n",
      "0.6438356164383562                                                                 \n",
      "              precision    recall  f1-score   support                              \n",
      "\n",
      "           0       0.00      0.00      0.00        26\n",
      "           1       0.64      1.00      0.78        47\n",
      "\n",
      "    accuracy                           0.64        73\n",
      "   macro avg       0.32      0.50      0.39        73\n",
      "weighted avg       0.41      0.64      0.50        73\n",
      "\n",
      "SCORE:                                                                             \n",
      "0.3561643835616438                                                                 \n",
      "              precision    recall  f1-score   support                              \n",
      "\n",
      "           0       0.36      1.00      0.53        26\n",
      "           1       0.00      0.00      0.00        47\n",
      "\n",
      "    accuracy                           0.36        73\n",
      "   macro avg       0.18      0.50      0.26        73\n",
      "weighted avg       0.13      0.36      0.19        73\n",
      "\n",
      "SCORE:                                                                             \n",
      "0.3561643835616438                                                                 \n",
      "              precision    recall  f1-score   support                              \n",
      "\n",
      "           0       0.36      1.00      0.53        26\n",
      "           1       0.00      0.00      0.00        47\n",
      "\n",
      "    accuracy                           0.36        73\n",
      "   macro avg       0.18      0.50      0.26        73\n",
      "weighted avg       0.13      0.36      0.19        73\n",
      "\n",
      "SCORE:                                                                             \n",
      "0.6438356164383562                                                                 \n",
      "              precision    recall  f1-score   support                              \n",
      "\n",
      "           0       0.00      0.00      0.00        26\n",
      "           1       0.64      1.00      0.78        47\n",
      "\n",
      "    accuracy                           0.64        73\n",
      "   macro avg       0.32      0.50      0.39        73\n",
      "weighted avg       0.41      0.64      0.50        73\n",
      "\n",
      "SCORE:                                                                             \n",
      "0.6438356164383562                                                                 \n",
      "              precision    recall  f1-score   support                              \n",
      "\n",
      "           0       0.00      0.00      0.00        26\n",
      "           1       0.64      1.00      0.78        47\n",
      "\n",
      "    accuracy                           0.64        73\n",
      "   macro avg       0.32      0.50      0.39        73\n",
      "weighted avg       0.41      0.64      0.50        73\n",
      "\n",
      "SCORE:                                                                             \n",
      "0.3561643835616438                                                                 \n",
      "              precision    recall  f1-score   support                              \n",
      "\n",
      "           0       0.36      1.00      0.53        26\n",
      "           1       0.00      0.00      0.00        47\n",
      "\n",
      "    accuracy                           0.36        73\n",
      "   macro avg       0.18      0.50      0.26        73\n",
      "weighted avg       0.13      0.36      0.19        73\n",
      "\n",
      "SCORE:                                                                             \n",
      "0.6438356164383562                                                                 \n",
      "              precision    recall  f1-score   support                              \n",
      "\n",
      "           0       0.00      0.00      0.00        26\n",
      "           1       0.64      1.00      0.78        47\n",
      "\n",
      "    accuracy                           0.64        73\n",
      "   macro avg       0.32      0.50      0.39        73\n",
      "weighted avg       0.41      0.64      0.50        73\n",
      "\n",
      "SCORE:                                                                             \n",
      "0.3561643835616438                                                                 \n",
      "              precision    recall  f1-score   support                              \n",
      "\n",
      "           0       0.36      1.00      0.53        26\n",
      "           1       0.00      0.00      0.00        47\n",
      "\n",
      "    accuracy                           0.36        73\n",
      "   macro avg       0.18      0.50      0.26        73\n",
      "weighted avg       0.13      0.36      0.19        73\n",
      "\n",
      "SCORE:                                                                             \n",
      "0.3561643835616438                                                                 \n",
      "              precision    recall  f1-score   support                              \n",
      "\n",
      "           0       0.36      1.00      0.53        26\n",
      "           1       0.00      0.00      0.00        47\n",
      "\n",
      "    accuracy                           0.36        73\n",
      "   macro avg       0.18      0.50      0.26        73\n",
      "weighted avg       0.13      0.36      0.19        73\n",
      "\n",
      "SCORE:                                                                             \n",
      "0.6438356164383562                                                                 \n",
      "              precision    recall  f1-score   support                              \n",
      "\n",
      "           0       0.00      0.00      0.00        26\n",
      "           1       0.64      1.00      0.78        47\n",
      "\n",
      "    accuracy                           0.64        73\n",
      "   macro avg       0.32      0.50      0.39        73\n",
      "weighted avg       0.41      0.64      0.50        73\n",
      "\n",
      "SCORE:                                                                             \n",
      "0.6438356164383562                                                                 \n",
      "              precision    recall  f1-score   support                              \n",
      "\n",
      "           0       0.00      0.00      0.00        26\n",
      "           1       0.64      1.00      0.78        47\n",
      "\n",
      "    accuracy                           0.64        73\n",
      "   macro avg       0.32      0.50      0.39        73\n",
      "weighted avg       0.41      0.64      0.50        73\n",
      "\n"
     ]
    },
    {
     "name": "stdout",
     "output_type": "stream",
     "text": [
      "SCORE:                                                                             \n",
      "0.3561643835616438                                                                 \n",
      "              precision    recall  f1-score   support                              \n",
      "\n",
      "           0       0.36      1.00      0.53        26\n",
      "           1       0.00      0.00      0.00        47\n",
      "\n",
      "    accuracy                           0.36        73\n",
      "   macro avg       0.18      0.50      0.26        73\n",
      "weighted avg       0.13      0.36      0.19        73\n",
      "\n",
      "SCORE:                                                                             \n",
      "0.6438356164383562                                                                 \n",
      "              precision    recall  f1-score   support                              \n",
      "\n",
      "           0       0.00      0.00      0.00        26\n",
      "           1       0.64      1.00      0.78        47\n",
      "\n",
      "    accuracy                           0.64        73\n",
      "   macro avg       0.32      0.50      0.39        73\n",
      "weighted avg       0.41      0.64      0.50        73\n",
      "\n",
      "SCORE:                                                                             \n",
      "0.3561643835616438                                                                 \n",
      "              precision    recall  f1-score   support                              \n",
      "\n",
      "           0       0.36      1.00      0.53        26\n",
      "           1       0.00      0.00      0.00        47\n",
      "\n",
      "    accuracy                           0.36        73\n",
      "   macro avg       0.18      0.50      0.26        73\n",
      "weighted avg       0.13      0.36      0.19        73\n",
      "\n",
      "100%|██████████| 100/100 [01:48<00:00,  1.09s/trial, best loss: -0.6438356164383562]\n"
     ]
    }
   ],
   "source": [
    "trials = Trials()\n",
    "\n",
    "best_hyperparams = fmin(fn = objective,\n",
    "                        space = space,\n",
    "                        algo = tpe.suggest,\n",
    "                        max_evals = 100,\n",
    "                        trials = trials)"
   ]
  },
  {
   "cell_type": "markdown",
   "metadata": {},
   "source": [
    "# SGD Classifier"
   ]
  },
  {
   "cell_type": "code",
   "execution_count": 12,
   "metadata": {
    "scrolled": false
   },
   "outputs": [
    {
     "name": "stdout",
     "output_type": "stream",
     "text": [
      "[1 0 1 1 1 1 1 1 1 1 1 1 1 1 1 1 1 1 1 1 1 1 1 1 1 0 1 1 1 1 1 1 0 1 1 1 1\n",
      " 1 1 1 1 1 1 0 1 1 1 1 0 1 1 1 1 1 1 1 1 0 1 1 1 0 1 1 1 1 1 1 0 1 1 1 1]\n",
      "accuracy =  0.75\n",
      "              precision    recall  f1-score   support\n",
      "\n",
      "           0       1.00      0.31      0.47        26\n",
      "           1       0.72      1.00      0.84        47\n",
      "\n",
      "    accuracy                           0.75        73\n",
      "   macro avg       0.86      0.65      0.65        73\n",
      "weighted avg       0.82      0.75      0.71        73\n",
      "\n"
     ]
    },
    {
     "data": {
      "image/png": "[encoded data removed]",
      "text/plain": [
       "<Figure size 648x648 with 2 Axes>"
      ]
     },
     "metadata": {
      "needs_background": "light"
     },
     "output_type": "display_data"
    }
   ],
   "source": [
    "sgd = SGDClassifier(max_iter=1000, tol=1e-3)\n",
    "sgd.fit(x_train,y_train)\n",
    "y_pred = sgd.predict(x_val)\n",
    "print(y_pred)\n",
    "accuracy = accuracy_score(y_val,y_pred)\n",
    "print(\"accuracy = \", round(accuracy,2))\n",
    "print(classification_report(y_val,y_pred))\n",
    "\n",
    "cm = confusion_matrix(y_val, y_pred)\n",
    "plt.figure(figsize=(9,9))\n",
    "\n",
    "sns.heatmap(cm,annot = True, fmt='.3f',linewidth=.5,square=True,cmap='Pastel1');\n",
    "plt.ylabel(\"Actual Label\");\n",
    "plt.xlabel(\"Predicted Label\");\n",
    "all_sample_title='Accuracy Score:{0}'.format(accuracy)\n",
    "plt.title(all_sample_title,size=15);\n"
   ]
  },
  {
   "cell_type": "markdown",
   "metadata": {},
   "source": [
    "# Save Best Model"
   ]
  },
  {
   "cell_type": "code",
   "execution_count": 13,
   "metadata": {},
   "outputs": [],
   "source": [
    "import pickle\n",
    "pickle.dump(sgd,open('saved model/sgd model.pkl','wb'))"
   ]
  },
  {
   "cell_type": "markdown",
   "metadata": {},
   "source": [
    "# Make Prediction on Test Data and Save Results"
   ]
  },
  {
   "cell_type": "code",
   "execution_count": 17,
   "metadata": {},
   "outputs": [
    {
     "name": "stdout",
     "output_type": "stream",
     "text": [
      "     test_example_id                                              story\n",
      "0                  0  כחלק ממסגרת ההתנדבות שלי במגלה אני הולך לפעמיי...\n",
      "1                  1  לפני שנה החלטתי שאני רוצה להיות טייס, התחלתי ל...\n",
      "2                  2  בתקופת הקורונה של תחילת החיסונים נגד קורונה, א...\n",
      "3                  3  כפי שכולם מכירים או שמעו מחברים עולם הדייטים ה...\n",
      "4                  4  אחת החוויות שהכי זכורות לי, זו החוויה בפרו בטי...\n",
      "..               ...                                                ...\n",
      "151              151  לא הרבה יודעים אך אני מתעסק הרבה בשוק ההון ובמ...\n",
      "152              152  כשהייתי בן 4 נולד לי אח קטן, אני חייב להודות ש...\n",
      "153              153  הכל התחיל אי שם בגיל ההתבגרות, היתה לי חברה מו...\n",
      "154              154  נסעתי עם חברים לים, היה יום חם ורצינו ללכת לנצ...\n",
      "155              155  הייתי בכיתה י,  ואני והשכבה של יצאנו לטיול שנת...\n",
      "\n",
      "[156 rows x 2 columns]\n",
      "     test_example_id\n",
      "0                  0\n",
      "1                  1\n",
      "2                  2\n",
      "3                  3\n",
      "4                  4\n",
      "..               ...\n",
      "151              151\n",
      "152              152\n",
      "153              153\n",
      "154              154\n",
      "155              155\n",
      "\n",
      "[156 rows x 1 columns]\n"
     ]
    }
   ],
   "source": [
    "df_predicted = df_test.copy()\n",
    "print(df_predicted)\n",
    "df_predicted.drop('story',axis=1,inplace=True)\n",
    "print(df_predicted)"
   ]
  },
  {
   "cell_type": "code",
   "execution_count": 22,
   "metadata": {},
   "outputs": [
    {
     "name": "stdout",
     "output_type": "stream",
     "text": [
      "[1 1 1 1 1 1 1 1 1 1 1 1 0 1 1 1 1 1 1 1 1 1 1 1 1 1 1 1 1 1 1 1 0 0 1 1 1\n",
      " 0 1 1 1 0 1 1 1 1 1 1 1 1 1 1 1 1 0 1 1 0 1 1 0 1 1 1 0 1 1 0 1 1 1 1 1 1\n",
      " 1 1 1 1 1 1 1 1 1 1 1 1 1 0 1 1 1 1 1 1 1 1 1 1 1 1 1 1 1 1 1 1 1 1 1 1 0\n",
      " 1 1 1 1 1 1 1 1 1 1 1 1 0 1 0 1 1 1 1 1 1 1 1 1 1 0 1 1 1 1 1 1 1 1 1 1 1\n",
      " 1 1 1 1 1 1 0 1]\n"
     ]
    }
   ],
   "source": [
    "model = pickle.load(open('saved model/sgd model.pkl', 'rb'))\n",
    "#file = pd.read_csv('corpus_for_test.csv',encoding='UTF-8')\n",
    "\n",
    "prediction = model.predict(test)\n",
    "print(prediction)\n",
    "\n",
    "prediction = list(prediction)\n",
    "pred = []\n",
    "\n",
    "for i in prediction:\n",
    "    if i == 1:\n",
    "        x = 'm'\n",
    "    elif i == 0:\n",
    "        x = 'f'\n",
    "        \n",
    "    pred.append(x)"
   ]
  },
  {
   "cell_type": "markdown",
   "metadata": {},
   "source": [
    "### Save output to csv\n",
    "After you're done save your output to the 'classification_results.csv' csv file.<br/>\n",
    "We assume that the dataframe with your results contain the following columns:\n",
    "* column 1 (left column): 'test_example_id'  - the same id associated to each of the test stories to be predicted.\n",
    "* column 2 (right column): 'predicted_category' - the predicted gender value for each of the associated story. \n",
    "\n",
    "Assuming your predicted values are in the `df_predicted` dataframe, you should save you're results as following:"
   ]
  },
  {
   "cell_type": "code",
   "execution_count": 23,
   "metadata": {},
   "outputs": [],
   "source": [
    "df_predicted['Model_prediction'] = pred\n",
    "df_predicted.to_csv('classification_results.csv',index=False)"
   ]
  }
 ],
 "metadata": {
  "kernelspec": {
   "display_name": "Python 3",
   "language": "python",
   "name": "python3"
  },
  "language_info": {
   "codemirror_mode": {
    "name": "ipython",
    "version": 3
   },
   "file_extension": ".py",
   "mimetype": "text/x-python",
   "name": "python",
   "nbconvert_exporter": "python",
   "pygments_lexer": "ipython3",
   "version": "3.6.10"
  }
 },
 "nbformat": 4,
 "nbformat_minor": 4
}
